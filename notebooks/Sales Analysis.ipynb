{
 "cells": [
  {
   "cell_type": "code",
   "execution_count": 14,
   "id": "8e29842b",
   "metadata": {},
   "outputs": [],
   "source": [
    "import pandas as pd\n",
    "import glob, os"
   ]
  },
  {
   "cell_type": "markdown",
   "id": "9cae63e6",
   "metadata": {},
   "source": [
    "### Merging 12 months of sales data into a single file"
   ]
  },
  {
   "cell_type": "markdown",
   "id": "5e9a33f5",
   "metadata": {},
   "source": [
    "Also a single csv just in case that we need it"
   ]
  },
  {
   "cell_type": "code",
   "execution_count": 27,
   "id": "61aca294",
   "metadata": {},
   "outputs": [],
   "source": [
    "mainpath = \"/home/nicolasterroni/projects/cursos/data-analysis-and-machine-learning/datasets/Sales_Data/\""
   ]
  },
  {
   "cell_type": "code",
   "execution_count": 28,
   "id": "893eb06e",
   "metadata": {},
   "outputs": [],
   "source": [
    "csv_files = glob.glob(os.path.join(mainpath, \"*.csv\"))\n",
    "\n",
    "# We also can use:\n",
    "# csv_files = [file for files in os.listdir(mainpath)]\n",
    "\n",
    "data = pd.DataFrame()\n",
    "\n",
    "for file in csv_files:\n",
    "    new_data =  pd.read_csv(file)\n",
    "    data = pd.concat([data,new_data],axis=0)\n",
    "    \n",
    "# save all data in a single csv file\n",
    "# data.to_csv(mainpath+\"/full_dataset/Sales_all_2019.csv\")\n",
    "data = data.dropna(axis=0,how=\"all\")\n",
    "data.shape"
   ]
  },
  {
   "cell_type": "markdown",
   "id": "f69ec84b",
   "metadata": {},
   "source": [
    "### Which was the best month for sales?"
   ]
  },
  {
   "cell_type": "code",
   "execution_count": 80,
   "id": "af4892de",
   "metadata": {},
   "outputs": [],
   "source": [
    "data['DateTime'] = pd.to_datetime(data['Order Date'], format='%m/%d/%y %H:%M', errors=\"coerce\")\n",
    "#data['Quantity Ordered'] =  data['Quantity Ordered'].astype(int)\n",
    "#data['Price Each'] =  data['Price Each'].astype(float)\n",
    "\n",
    "grouped_by_month = data.groupby(data[\"DateTime\"].dt.month)\n",
    "groups_keys = grouped_by_month.groups.keys()\n",
    "\n",
    "sales_for_each_month = {}\n",
    "for group in groups_keys:\n",
    "    sales_for_each_month[group] = 0\n",
    "    month_sales = grouped_by_month.get_group(group)\n",
    "    for index, row in month_sales.iterrows():\n",
    "        try:\n",
    "            value = float(row['Price Each']) * int(row['Quantity Ordered'])\n",
    "        except TypeError:\n",
    "            indices_rotos.append(index)\n",
    "            continue\n",
    "        sales_for_each_month[group] += value"
   ]
  },
  {
   "cell_type": "code",
   "execution_count": 82,
   "id": "ef5c64f4",
   "metadata": {},
   "outputs": [
    {
     "data": {
      "text/plain": [
       "{1.0: 14151.0,\n",
       " 2.0: 17331.0,\n",
       " 3.0: 22033.0,\n",
       " 4.0: 26604.0,\n",
       " 5.0: 24361.0,\n",
       " 6.0: 19667.0,\n",
       " 7.0: 21108.0,\n",
       " 8.0: 17538.0,\n",
       " 9.0: 16985.0,\n",
       " 10.0: 29287.0,\n",
       " 11.0: 25888.0,\n",
       " 12.0: 36590.0}"
      ]
     },
     "execution_count": 82,
     "metadata": {},
     "output_type": "execute_result"
    }
   ],
   "source": [
    "sales_for_each_month"
   ]
  },
  {
   "cell_type": "code",
   "execution_count": null,
   "id": "6f956a46",
   "metadata": {},
   "outputs": [],
   "source": []
  }
 ],
 "metadata": {
  "kernelspec": {
   "display_name": "Python 3 (ipykernel)",
   "language": "python",
   "name": "python3"
  },
  "language_info": {
   "codemirror_mode": {
    "name": "ipython",
    "version": 3
   },
   "file_extension": ".py",
   "mimetype": "text/x-python",
   "name": "python",
   "nbconvert_exporter": "python",
   "pygments_lexer": "ipython3",
   "version": "3.8.10"
  }
 },
 "nbformat": 4,
 "nbformat_minor": 5
}
