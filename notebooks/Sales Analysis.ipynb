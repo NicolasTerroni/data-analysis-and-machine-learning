{
 "cells": [
  {
   "cell_type": "code",
   "execution_count": 57,
   "id": "8e29842b",
   "metadata": {},
   "outputs": [],
   "source": [
    "import pandas as pd\n",
    "import glob, os\n",
    "import matplotlib.pyplot as plt"
   ]
  },
  {
   "cell_type": "markdown",
   "id": "9cae63e6",
   "metadata": {},
   "source": [
    "### Merging 12 months of sales data into a single file"
   ]
  },
  {
   "cell_type": "markdown",
   "id": "5e9a33f5",
   "metadata": {},
   "source": [
    "Also a single csv just in case that we need it"
   ]
  },
  {
   "cell_type": "code",
   "execution_count": 42,
   "id": "893eb06e",
   "metadata": {},
   "outputs": [],
   "source": [
    "mainpath = \"/home/nicolasterroni/projects/cursos/data-analysis-and-machine-learning/datasets\"\n",
    "#csv_files = [file for files in os.listdir(\"mainpath\")]\n",
    "\n",
    "# We also can use:\n",
    "csv_files = glob.glob(os.path.join(mainpath+\"/Sales_Data/\", \"*.csv\"))\n",
    "\n",
    "data = pd.DataFrame()\n",
    "\n",
    "for file in csv_files:\n",
    "    new_data =  pd.read_csv(file)\n",
    "    data = pd.concat([data,new_data],axis=0)\n",
    "    \n",
    "# remove headers\n",
    "trash_data = data.loc[data['Order Date']=='Order Date'].index\n",
    "data.drop(trash_data, inplace = True) \n",
    "\n",
    "# save all data in a single csv file\n",
    "data.to_csv(mainpath+\"/full_dataset/Sales_all_2019.csv\",index=False)"
   ]
  },
  {
   "cell_type": "markdown",
   "id": "101c6355",
   "metadata": {},
   "source": [
    "### Clean data"
   ]
  },
  {
   "cell_type": "code",
   "execution_count": 43,
   "id": "16d2ed29",
   "metadata": {},
   "outputs": [],
   "source": [
    "trash_data = data.loc[data['Order Date']=='Order Date'].index\n",
    "data.drop(trash_data, inplace = True) \n",
    "data = data.dropna(axis=0,how=\"all\")"
   ]
  },
  {
   "cell_type": "code",
   "execution_count": 44,
   "id": "03b3e71a",
   "metadata": {},
   "outputs": [
    {
     "data": {
      "text/html": [
       "<div>\n",
       "<style scoped>\n",
       "    .dataframe tbody tr th:only-of-type {\n",
       "        vertical-align: middle;\n",
       "    }\n",
       "\n",
       "    .dataframe tbody tr th {\n",
       "        vertical-align: top;\n",
       "    }\n",
       "\n",
       "    .dataframe thead th {\n",
       "        text-align: right;\n",
       "    }\n",
       "</style>\n",
       "<table border=\"1\" class=\"dataframe\">\n",
       "  <thead>\n",
       "    <tr style=\"text-align: right;\">\n",
       "      <th></th>\n",
       "      <th>Order ID</th>\n",
       "      <th>Product</th>\n",
       "      <th>Quantity Ordered</th>\n",
       "      <th>Price Each</th>\n",
       "      <th>Purchase Address</th>\n",
       "      <th>DateTime</th>\n",
       "      <th>Month</th>\n",
       "    </tr>\n",
       "  </thead>\n",
       "  <tbody>\n",
       "    <tr>\n",
       "      <th>0</th>\n",
       "      <td>176558</td>\n",
       "      <td>USB-C Charging Cable</td>\n",
       "      <td>2</td>\n",
       "      <td>11.95</td>\n",
       "      <td>917 1st St, Dallas, TX 75001</td>\n",
       "      <td>2019-04-19 08:46:00</td>\n",
       "      <td>4</td>\n",
       "    </tr>\n",
       "    <tr>\n",
       "      <th>2</th>\n",
       "      <td>176559</td>\n",
       "      <td>Bose SoundSport Headphones</td>\n",
       "      <td>1</td>\n",
       "      <td>99.99</td>\n",
       "      <td>682 Chestnut St, Boston, MA 02215</td>\n",
       "      <td>2019-04-07 22:30:00</td>\n",
       "      <td>4</td>\n",
       "    </tr>\n",
       "    <tr>\n",
       "      <th>3</th>\n",
       "      <td>176560</td>\n",
       "      <td>Google Phone</td>\n",
       "      <td>1</td>\n",
       "      <td>600.00</td>\n",
       "      <td>669 Spruce St, Los Angeles, CA 90001</td>\n",
       "      <td>2019-04-12 14:38:00</td>\n",
       "      <td>4</td>\n",
       "    </tr>\n",
       "    <tr>\n",
       "      <th>4</th>\n",
       "      <td>176560</td>\n",
       "      <td>Wired Headphones</td>\n",
       "      <td>1</td>\n",
       "      <td>11.99</td>\n",
       "      <td>669 Spruce St, Los Angeles, CA 90001</td>\n",
       "      <td>2019-04-12 14:38:00</td>\n",
       "      <td>4</td>\n",
       "    </tr>\n",
       "    <tr>\n",
       "      <th>5</th>\n",
       "      <td>176561</td>\n",
       "      <td>Wired Headphones</td>\n",
       "      <td>1</td>\n",
       "      <td>11.99</td>\n",
       "      <td>333 8th St, Los Angeles, CA 90001</td>\n",
       "      <td>2019-04-30 09:27:00</td>\n",
       "      <td>4</td>\n",
       "    </tr>\n",
       "  </tbody>\n",
       "</table>\n",
       "</div>"
      ],
      "text/plain": [
       "   Order ID                     Product  Quantity Ordered  Price Each  \\\n",
       "0    176558        USB-C Charging Cable                 2       11.95   \n",
       "2    176559  Bose SoundSport Headphones                 1       99.99   \n",
       "3    176560                Google Phone                 1      600.00   \n",
       "4    176560            Wired Headphones                 1       11.99   \n",
       "5    176561            Wired Headphones                 1       11.99   \n",
       "\n",
       "                       Purchase Address            DateTime  Month  \n",
       "0          917 1st St, Dallas, TX 75001 2019-04-19 08:46:00      4  \n",
       "2     682 Chestnut St, Boston, MA 02215 2019-04-07 22:30:00      4  \n",
       "3  669 Spruce St, Los Angeles, CA 90001 2019-04-12 14:38:00      4  \n",
       "4  669 Spruce St, Los Angeles, CA 90001 2019-04-12 14:38:00      4  \n",
       "5     333 8th St, Los Angeles, CA 90001 2019-04-30 09:27:00      4  "
      ]
     },
     "execution_count": 44,
     "metadata": {},
     "output_type": "execute_result"
    }
   ],
   "source": [
    "data['DateTime'] = pd.to_datetime(data['Order Date'], format='%m/%d/%y %H:%M')\n",
    "                                  \n",
    "data['Month'] = data['DateTime'].dt.month\n",
    "data['Month'] = data['Month'].astype('int')\n",
    "\n",
    "data = data.drop(['Order Date'],axis=1)\n",
    "\n",
    "data['Order ID'] = pd.to_numeric(data['Order ID'])\n",
    "data['Product'] = data['Product'].astype(str)\n",
    "data['Quantity Ordered'] = pd.to_numeric(data['Quantity Ordered'])\n",
    "data['Price Each'] = pd.to_numeric(data['Price Each'])\n",
    "data['Purchase Address'] = data['Purchase Address'].astype(str)\n",
    "\n",
    "data.head()"
   ]
  },
  {
   "cell_type": "markdown",
   "id": "6fed98c7",
   "metadata": {},
   "source": [
    "### Which was the best month for sales?"
   ]
  },
  {
   "cell_type": "markdown",
   "id": "68ae0910",
   "metadata": {},
   "source": [
    "##### Group sales per month"
   ]
  },
  {
   "cell_type": "code",
   "execution_count": 45,
   "id": "ecdccb05",
   "metadata": {},
   "outputs": [
    {
     "data": {
      "text/plain": [
       "dict_keys([1, 2, 3, 4, 5, 6, 7, 8, 9, 10, 11, 12])"
      ]
     },
     "execution_count": 45,
     "metadata": {},
     "output_type": "execute_result"
    }
   ],
   "source": [
    "grouped_by_month = data.groupby(data[\"Month\"])\n",
    "groups_keys = grouped_by_month.groups.keys()\n",
    "groups_keys"
   ]
  },
  {
   "cell_type": "markdown",
   "id": "77124d8c",
   "metadata": {},
   "source": [
    "##### Sum sales per month"
   ]
  },
  {
   "cell_type": "code",
   "execution_count": 46,
   "id": "5aec6906",
   "metadata": {},
   "outputs": [
    {
     "data": {
      "text/plain": [
       "{1: 1786511.289999915,\n",
       " 2: 2158127.479999929,\n",
       " 3: 2755969.40000032,\n",
       " 4: 3336376.4200006723,\n",
       " 5: 3101881.0400005206,\n",
       " 6: 2524464.990000136,\n",
       " 7: 2587444.910000183,\n",
       " 8: 2191698.3099999647,\n",
       " 9: 2050361.2599998936,\n",
       " 10: 3679254.160000939,\n",
       " 11: 3149785.0900005554,\n",
       " 12: 4557905.420001494}"
      ]
     },
     "execution_count": 46,
     "metadata": {},
     "output_type": "execute_result"
    }
   ],
   "source": [
    "sales_for_each_month = {}\n",
    "for group in groups_keys:\n",
    "    sales_for_each_month[group] = 0\n",
    "    month_sales = grouped_by_month.get_group(group)\n",
    "    for index, row in month_sales.iterrows():\n",
    "        value = float(row['Price Each']) * int(row['Quantity Ordered'])\n",
    "        sales_for_each_month[group] += round(value,2)\n",
    "sales_for_each_month"
   ]
  },
  {
   "cell_type": "markdown",
   "id": "6c5a0b7d",
   "metadata": {},
   "source": [
    "It was december with 4557905.42"
   ]
  },
  {
   "cell_type": "markdown",
   "id": "169b646d",
   "metadata": {},
   "source": [
    "##### Better solution and plot"
   ]
  },
  {
   "cell_type": "code",
   "execution_count": 58,
   "id": "ffd9e531",
   "metadata": {},
   "outputs": [
    {
     "data": {
      "text/html": [
       "<div>\n",
       "<style scoped>\n",
       "    .dataframe tbody tr th:only-of-type {\n",
       "        vertical-align: middle;\n",
       "    }\n",
       "\n",
       "    .dataframe tbody tr th {\n",
       "        vertical-align: top;\n",
       "    }\n",
       "\n",
       "    .dataframe thead th {\n",
       "        text-align: right;\n",
       "    }\n",
       "</style>\n",
       "<table border=\"1\" class=\"dataframe\">\n",
       "  <thead>\n",
       "    <tr style=\"text-align: right;\">\n",
       "      <th></th>\n",
       "      <th>Order ID</th>\n",
       "      <th>Quantity Ordered</th>\n",
       "      <th>Price Each</th>\n",
       "      <th>Total Amount</th>\n",
       "    </tr>\n",
       "    <tr>\n",
       "      <th>Month</th>\n",
       "      <th></th>\n",
       "      <th></th>\n",
       "      <th></th>\n",
       "      <th></th>\n",
       "    </tr>\n",
       "  </thead>\n",
       "  <tbody>\n",
       "    <tr>\n",
       "      <th>1</th>\n",
       "      <td>1391148846</td>\n",
       "      <td>10670</td>\n",
       "      <td>1776155.79</td>\n",
       "      <td>1786511.29</td>\n",
       "    </tr>\n",
       "    <tr>\n",
       "      <th>2</th>\n",
       "      <td>1832181724</td>\n",
       "      <td>13162</td>\n",
       "      <td>2145208.87</td>\n",
       "      <td>2158127.48</td>\n",
       "    </tr>\n",
       "    <tr>\n",
       "      <th>3</th>\n",
       "      <td>2520234917</td>\n",
       "      <td>16697</td>\n",
       "      <td>2740393.12</td>\n",
       "      <td>2755969.40</td>\n",
       "    </tr>\n",
       "    <tr>\n",
       "      <th>4</th>\n",
       "      <td>3333217539</td>\n",
       "      <td>20226</td>\n",
       "      <td>3313522.35</td>\n",
       "      <td>3336376.42</td>\n",
       "    </tr>\n",
       "    <tr>\n",
       "      <th>5</th>\n",
       "      <td>3289290354</td>\n",
       "      <td>18344</td>\n",
       "      <td>3084756.09</td>\n",
       "      <td>3101881.04</td>\n",
       "    </tr>\n",
       "    <tr>\n",
       "      <th>6</th>\n",
       "      <td>2876409942</td>\n",
       "      <td>14964</td>\n",
       "      <td>2508863.49</td>\n",
       "      <td>2524464.99</td>\n",
       "    </tr>\n",
       "    <tr>\n",
       "      <th>7</th>\n",
       "      <td>3224356195</td>\n",
       "      <td>15781</td>\n",
       "      <td>2572764.75</td>\n",
       "      <td>2587444.91</td>\n",
       "    </tr>\n",
       "    <tr>\n",
       "      <th>8</th>\n",
       "      <td>2840777365</td>\n",
       "      <td>13185</td>\n",
       "      <td>2178183.81</td>\n",
       "      <td>2191698.31</td>\n",
       "    </tr>\n",
       "    <tr>\n",
       "      <th>9</th>\n",
       "      <td>2886380303</td>\n",
       "      <td>12827</td>\n",
       "      <td>2038019.59</td>\n",
       "      <td>2050361.26</td>\n",
       "    </tr>\n",
       "    <tr>\n",
       "      <th>10</th>\n",
       "      <td>5374745444</td>\n",
       "      <td>22356</td>\n",
       "      <td>3658884.86</td>\n",
       "      <td>3679254.16</td>\n",
       "    </tr>\n",
       "    <tr>\n",
       "      <th>11</th>\n",
       "      <td>4964034464</td>\n",
       "      <td>19479</td>\n",
       "      <td>3130968.77</td>\n",
       "      <td>3149785.09</td>\n",
       "    </tr>\n",
       "    <tr>\n",
       "      <th>12</th>\n",
       "      <td>7593831188</td>\n",
       "      <td>27764</td>\n",
       "      <td>4533151.68</td>\n",
       "      <td>4557905.42</td>\n",
       "    </tr>\n",
       "  </tbody>\n",
       "</table>\n",
       "</div>"
      ],
      "text/plain": [
       "         Order ID  Quantity Ordered  Price Each  Total Amount\n",
       "Month                                                        \n",
       "1      1391148846             10670  1776155.79    1786511.29\n",
       "2      1832181724             13162  2145208.87    2158127.48\n",
       "3      2520234917             16697  2740393.12    2755969.40\n",
       "4      3333217539             20226  3313522.35    3336376.42\n",
       "5      3289290354             18344  3084756.09    3101881.04\n",
       "6      2876409942             14964  2508863.49    2524464.99\n",
       "7      3224356195             15781  2572764.75    2587444.91\n",
       "8      2840777365             13185  2178183.81    2191698.31\n",
       "9      2886380303             12827  2038019.59    2050361.26\n",
       "10     5374745444             22356  3658884.86    3679254.16\n",
       "11     4964034464             19479  3130968.77    3149785.09\n",
       "12     7593831188             27764  4533151.68    4557905.42"
      ]
     },
     "execution_count": 58,
     "metadata": {},
     "output_type": "execute_result"
    }
   ],
   "source": [
    "# maybe this column would have helped\n",
    "data['Total Amount'] = round((data['Price Each']*data['Quantity Ordered']).astype(float),2)\n",
    "data.groupby(\"Month\").sum()"
   ]
  },
  {
   "cell_type": "code",
   "execution_count": 63,
   "id": "120c5e54",
   "metadata": {},
   "outputs": [
    {
     "data": {
      "image/png": "[encoded data removed]",
      "text/plain": [
       "<Figure size 432x288 with 1 Axes>"
      ]
     },
     "metadata": {
      "needs_background": "light"
     },
     "output_type": "display_data"
    }
   ],
   "source": [
    "results = data.groupby(\"Month\").sum()\n",
    "months = range(1,13)\n",
    "plt.bar(months,results[\"Total Amount\"])\n",
    "plt.xticks(months)\n",
    "plt.ylabel(\"Sales in $MM\")\n",
    "plt.xlabel(\"Months\")\n",
    "plt.show()"
   ]
  },
  {
   "cell_type": "markdown",
   "id": "23212270",
   "metadata": {},
   "source": [
    "### What city had the highest numbers of sales?"
   ]
  },
  {
   "cell_type": "code",
   "execution_count": null,
   "id": "f1fe765f",
   "metadata": {},
   "outputs": [],
   "source": []
  },
  {
   "cell_type": "code",
   "execution_count": null,
   "id": "ff76936e",
   "metadata": {},
   "outputs": [],
   "source": []
  },
  {
   "cell_type": "code",
   "execution_count": null,
   "id": "35b0b7f2",
   "metadata": {},
   "outputs": [],
   "source": []
  },
  {
   "cell_type": "code",
   "execution_count": null,
   "id": "2b9f526a",
   "metadata": {},
   "outputs": [],
   "source": []
  },
  {
   "cell_type": "code",
   "execution_count": null,
   "id": "e2a28cc7",
   "metadata": {},
   "outputs": [],
   "source": []
  },
  {
   "cell_type": "code",
   "execution_count": null,
   "id": "5d862922",
   "metadata": {},
   "outputs": [],
   "source": []
  },
  {
   "cell_type": "code",
   "execution_count": null,
   "id": "3bbd7020",
   "metadata": {},
   "outputs": [],
   "source": []
  },
  {
   "cell_type": "code",
   "execution_count": null,
   "id": "49139be4",
   "metadata": {},
   "outputs": [],
   "source": []
  },
  {
   "cell_type": "code",
   "execution_count": null,
   "id": "a42aaa39",
   "metadata": {},
   "outputs": [],
   "source": []
  },
  {
   "cell_type": "code",
   "execution_count": null,
   "id": "211682b9",
   "metadata": {},
   "outputs": [],
   "source": []
  },
  {
   "cell_type": "code",
   "execution_count": null,
   "id": "2e23ba94",
   "metadata": {},
   "outputs": [],
   "source": []
  },
  {
   "cell_type": "code",
   "execution_count": null,
   "id": "1d531307",
   "metadata": {},
   "outputs": [],
   "source": []
  }
 ],
 "metadata": {
  "kernelspec": {
   "display_name": "Python 3 (ipykernel)",
   "language": "python",
   "name": "python3"
  },
  "language_info": {
   "codemirror_mode": {
    "name": "ipython",
    "version": 3
   },
   "file_extension": ".py",
   "mimetype": "text/x-python",
   "name": "python",
   "nbconvert_exporter": "python",
   "pygments_lexer": "ipython3",
   "version": "3.8.10"
  }
 },
 "nbformat": 4,
 "nbformat_minor": 5
}
