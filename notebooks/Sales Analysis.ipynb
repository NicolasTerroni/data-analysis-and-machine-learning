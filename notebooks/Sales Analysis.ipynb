{
 "cells": [
  {
   "cell_type": "code",
   "execution_count": 57,
   "id": "8e29842b",
   "metadata": {},
   "outputs": [],
   "source": [
    "import pandas as pd\n",
    "import glob, os\n",
    "import matplotlib.pyplot as plt"
   ]
  },
  {
   "cell_type": "markdown",
   "id": "9cae63e6",
   "metadata": {},
   "source": [
    "### Merging 12 months of sales data into a single file"
   ]
  },
  {
   "cell_type": "markdown",
   "id": "5e9a33f5",
   "metadata": {},
   "source": [
    "Also a single csv just in case that we need it"
   ]
  },
  {
   "cell_type": "code",
   "execution_count": 42,
   "id": "893eb06e",
   "metadata": {},
   "outputs": [],
   "source": [
    "mainpath = \"/home/nicolasterroni/projects/cursos/data-analysis-and-machine-learning/datasets\"\n",
    "#csv_files = [file for files in os.listdir(\"mainpath\")]\n",
    "\n",
    "# We also can use:\n",
    "csv_files = glob.glob(os.path.join(mainpath+\"/Sales_Data/\", \"*.csv\"))\n",
    "\n",
    "data = pd.DataFrame()\n",
    "\n",
    "for file in csv_files:\n",
    "    new_data =  pd.read_csv(file)\n",
    "    data = pd.concat([data,new_data],axis=0)\n",
    "    \n",
    "# remove headers\n",
    "trash_data = data.loc[data['Order Date']=='Order Date'].index\n",
    "data.drop(trash_data, inplace = True) \n",
    "\n",
    "# save all data in a single csv file\n",
    "data.to_csv(mainpath+\"/full_dataset/Sales_all_2019.csv\",index=False)"
   ]
  },
  {
   "cell_type": "markdown",
   "id": "101c6355",
   "metadata": {},
   "source": [
    "### Clean data"
   ]
  },
  {
   "cell_type": "code",
   "execution_count": 43,
   "id": "7096bd31",
   "metadata": {},
   "outputs": [],
   "source": [
    "trash_data = data.loc[data['Order Date']=='Order Date'].index\n",
    "data.drop(trash_data, inplace = True) \n",
    "data = data.dropna(axis=0,how=\"all\")"
   ]
  },
  {
   "cell_type": "code",
   "execution_count": 44,
   "id": "03b3e71a",
   "metadata": {},
   "outputs": [
    {
     "data": {
      "text/html": [
       "<div>\n",
       "<style scoped>\n",
       "    .dataframe tbody tr th:only-of-type {\n",
       "        vertical-align: middle;\n",
       "    }\n",
       "\n",
       "    .dataframe tbody tr th {\n",
       "        vertical-align: top;\n",
       "    }\n",
       "\n",
       "    .dataframe thead th {\n",
       "        text-align: right;\n",
       "    }\n",
       "</style>\n",
       "<table border=\"1\" class=\"dataframe\">\n",
       "  <thead>\n",
       "    <tr style=\"text-align: right;\">\n",
       "      <th></th>\n",
       "      <th>Order ID</th>\n",
       "      <th>Product</th>\n",
       "      <th>Quantity Ordered</th>\n",
       "      <th>Price Each</th>\n",
       "      <th>Purchase Address</th>\n",
       "      <th>DateTime</th>\n",
       "      <th>Month</th>\n",
       "    </tr>\n",
       "  </thead>\n",
       "  <tbody>\n",
       "    <tr>\n",
       "      <th>0</th>\n",
       "      <td>176558</td>\n",
       "      <td>USB-C Charging Cable</td>\n",
       "      <td>2</td>\n",
       "      <td>11.95</td>\n",
       "      <td>917 1st St, Dallas, TX 75001</td>\n",
       "      <td>2019-04-19 08:46:00</td>\n",
       "      <td>4</td>\n",
       "    </tr>\n",
       "    <tr>\n",
       "      <th>2</th>\n",
       "      <td>176559</td>\n",
       "      <td>Bose SoundSport Headphones</td>\n",
       "      <td>1</td>\n",
       "      <td>99.99</td>\n",
       "      <td>682 Chestnut St, Boston, MA 02215</td>\n",
       "      <td>2019-04-07 22:30:00</td>\n",
       "      <td>4</td>\n",
       "    </tr>\n",
       "    <tr>\n",
       "      <th>3</th>\n",
       "      <td>176560</td>\n",
       "      <td>Google Phone</td>\n",
       "      <td>1</td>\n",
       "      <td>600.00</td>\n",
       "      <td>669 Spruce St, Los Angeles, CA 90001</td>\n",
       "      <td>2019-04-12 14:38:00</td>\n",
       "      <td>4</td>\n",
       "    </tr>\n",
       "    <tr>\n",
       "      <th>4</th>\n",
       "      <td>176560</td>\n",
       "      <td>Wired Headphones</td>\n",
       "      <td>1</td>\n",
       "      <td>11.99</td>\n",
       "      <td>669 Spruce St, Los Angeles, CA 90001</td>\n",
       "      <td>2019-04-12 14:38:00</td>\n",
       "      <td>4</td>\n",
       "    </tr>\n",
       "    <tr>\n",
       "      <th>5</th>\n",
       "      <td>176561</td>\n",
       "      <td>Wired Headphones</td>\n",
       "      <td>1</td>\n",
       "      <td>11.99</td>\n",
       "      <td>333 8th St, Los Angeles, CA 90001</td>\n",
       "      <td>2019-04-30 09:27:00</td>\n",
       "      <td>4</td>\n",
       "    </tr>\n",
       "  </tbody>\n",
       "</table>\n",
       "</div>"
      ],
      "text/plain": [
       "   Order ID                     Product  Quantity Ordered  Price Each  \\\n",
       "0    176558        USB-C Charging Cable                 2       11.95   \n",
       "2    176559  Bose SoundSport Headphones                 1       99.99   \n",
       "3    176560                Google Phone                 1      600.00   \n",
       "4    176560            Wired Headphones                 1       11.99   \n",
       "5    176561            Wired Headphones                 1       11.99   \n",
       "\n",
       "                       Purchase Address            DateTime  Month  \n",
       "0          917 1st St, Dallas, TX 75001 2019-04-19 08:46:00      4  \n",
       "2     682 Chestnut St, Boston, MA 02215 2019-04-07 22:30:00      4  \n",
       "3  669 Spruce St, Los Angeles, CA 90001 2019-04-12 14:38:00      4  \n",
       "4  669 Spruce St, Los Angeles, CA 90001 2019-04-12 14:38:00      4  \n",
       "5     333 8th St, Los Angeles, CA 90001 2019-04-30 09:27:00      4  "
      ]
     },
     "execution_count": 44,
     "metadata": {},
     "output_type": "execute_result"
    }
   ],
   "source": [
    "data['DateTime'] = pd.to_datetime(data['Order Date'], format='%m/%d/%y %H:%M')\n",
    "                                  \n",
    "data['Month'] = data['DateTime'].dt.month\n",
    "data['Month'] = data['Month'].astype('int')\n",
    "\n",
    "data = data.drop(['Order Date'],axis=1)\n",
    "\n",
    "data['Order ID'] = pd.to_numeric(data['Order ID'])\n",
    "data['Product'] = data['Product'].astype(str)\n",
    "data['Quantity Ordered'] = pd.to_numeric(data['Quantity Ordered'])\n",
    "data['Price Each'] = pd.to_numeric(data['Price Each'])\n",
    "data['Purchase Address'] = data['Purchase Address'].astype(str)\n",
    "\n",
    "data.head()"
   ]
  },
  {
   "cell_type": "markdown",
   "id": "6fed98c7",
   "metadata": {},
   "source": [
    "### Which was the best month for sales?"
   ]
  },
  {
   "cell_type": "markdown",
   "id": "47ef768b",
   "metadata": {},
   "source": [
    "##### Group sales per month"
   ]
  },
  {
   "cell_type": "code",
   "execution_count": 45,
   "id": "34c7944d",
   "metadata": {},
   "outputs": [
    {
     "data": {
      "text/plain": [
       "dict_keys([1, 2, 3, 4, 5, 6, 7, 8, 9, 10, 11, 12])"
      ]
     },
     "execution_count": 45,
     "metadata": {},
     "output_type": "execute_result"
    }
   ],
   "source": [
    "grouped_by_month = data.groupby(data[\"Month\"])\n",
    "groups_keys = grouped_by_month.groups.keys()\n",
    "groups_keys"
   ]
  },
  {
   "cell_type": "markdown",
   "id": "f6809467",
   "metadata": {},
   "source": [
    "##### Sum sales per month"
   ]
  },
  {
   "cell_type": "code",
   "execution_count": 46,
   "id": "5aec6906",
   "metadata": {},
   "outputs": [
    {
     "data": {
      "text/plain": [
       "{1: 1786511.289999915,\n",
       " 2: 2158127.479999929,\n",
       " 3: 2755969.40000032,\n",
       " 4: 3336376.4200006723,\n",
       " 5: 3101881.0400005206,\n",
       " 6: 2524464.990000136,\n",
       " 7: 2587444.910000183,\n",
       " 8: 2191698.3099999647,\n",
       " 9: 2050361.2599998936,\n",
       " 10: 3679254.160000939,\n",
       " 11: 3149785.0900005554,\n",
       " 12: 4557905.420001494}"
      ]
     },
     "execution_count": 46,
     "metadata": {},
     "output_type": "execute_result"
    }
   ],
   "source": [
    "sales_for_each_month = {}\n",
    "for group in groups_keys:\n",
    "    sales_for_each_month[group] = 0\n",
    "    month_sales = grouped_by_month.get_group(group)\n",
    "    for index, row in month_sales.iterrows():\n",
    "        value = float(row['Price Each']) * int(row['Quantity Ordered'])\n",
    "        sales_for_each_month[group] += round(value,2)\n",
    "sales_for_each_month"
   ]
  },
  {
   "cell_type": "markdown",
   "id": "27fd1040",
   "metadata": {},
   "source": [
    "It was december with 4557905.42"
   ]
  },
  {
   "cell_type": "markdown",
   "id": "b999c5ec",
   "metadata": {},
   "source": [
    "##### Better solution and plot"
   ]
  },
  {
   "cell_type": "code",
   "execution_count": 58,
   "id": "1e68dd58",
   "metadata": {},
   "outputs": [
    {
     "data": {
      "text/html": [
       "<div>\n",
       "<style scoped>\n",
       "    .dataframe tbody tr th:only-of-type {\n",
       "        vertical-align: middle;\n",
       "    }\n",
       "\n",
       "    .dataframe tbody tr th {\n",
       "        vertical-align: top;\n",
       "    }\n",
       "\n",
       "    .dataframe thead th {\n",
       "        text-align: right;\n",
       "    }\n",
       "</style>\n",
       "<table border=\"1\" class=\"dataframe\">\n",
       "  <thead>\n",
       "    <tr style=\"text-align: right;\">\n",
       "      <th></th>\n",
       "      <th>Order ID</th>\n",
       "      <th>Quantity Ordered</th>\n",
       "      <th>Price Each</th>\n",
       "      <th>Total Amount</th>\n",
       "    </tr>\n",
       "    <tr>\n",
       "      <th>Month</th>\n",
       "      <th></th>\n",
       "      <th></th>\n",
       "      <th></th>\n",
       "      <th></th>\n",
       "    </tr>\n",
       "  </thead>\n",
       "  <tbody>\n",
       "    <tr>\n",
       "      <th>1</th>\n",
       "      <td>1391148846</td>\n",
       "      <td>10670</td>\n",
       "      <td>1776155.79</td>\n",
       "      <td>1786511.29</td>\n",
       "    </tr>\n",
       "    <tr>\n",
       "      <th>2</th>\n",
       "      <td>1832181724</td>\n",
       "      <td>13162</td>\n",
       "      <td>2145208.87</td>\n",
       "      <td>2158127.48</td>\n",
       "    </tr>\n",
       "    <tr>\n",
       "      <th>3</th>\n",
       "      <td>2520234917</td>\n",
       "      <td>16697</td>\n",
       "      <td>2740393.12</td>\n",
       "      <td>2755969.40</td>\n",
       "    </tr>\n",
       "    <tr>\n",
       "      <th>4</th>\n",
       "      <td>3333217539</td>\n",
       "      <td>20226</td>\n",
       "      <td>3313522.35</td>\n",
       "      <td>3336376.42</td>\n",
       "    </tr>\n",
       "    <tr>\n",
       "      <th>5</th>\n",
       "      <td>3289290354</td>\n",
       "      <td>18344</td>\n",
       "      <td>3084756.09</td>\n",
       "      <td>3101881.04</td>\n",
       "    </tr>\n",
       "    <tr>\n",
       "      <th>6</th>\n",
       "      <td>2876409942</td>\n",
       "      <td>14964</td>\n",
       "      <td>2508863.49</td>\n",
       "      <td>2524464.99</td>\n",
       "    </tr>\n",
       "    <tr>\n",
       "      <th>7</th>\n",
       "      <td>3224356195</td>\n",
       "      <td>15781</td>\n",
       "      <td>2572764.75</td>\n",
       "      <td>2587444.91</td>\n",
       "    </tr>\n",
       "    <tr>\n",
       "      <th>8</th>\n",
       "      <td>2840777365</td>\n",
       "      <td>13185</td>\n",
       "      <td>2178183.81</td>\n",
       "      <td>2191698.31</td>\n",
       "    </tr>\n",
       "    <tr>\n",
       "      <th>9</th>\n",
       "      <td>2886380303</td>\n",
       "      <td>12827</td>\n",
       "      <td>2038019.59</td>\n",
       "      <td>2050361.26</td>\n",
       "    </tr>\n",
       "    <tr>\n",
       "      <th>10</th>\n",
       "      <td>5374745444</td>\n",
       "      <td>22356</td>\n",
       "      <td>3658884.86</td>\n",
       "      <td>3679254.16</td>\n",
       "    </tr>\n",
       "    <tr>\n",
       "      <th>11</th>\n",
       "      <td>4964034464</td>\n",
       "      <td>19479</td>\n",
       "      <td>3130968.77</td>\n",
       "      <td>3149785.09</td>\n",
       "    </tr>\n",
       "    <tr>\n",
       "      <th>12</th>\n",
       "      <td>7593831188</td>\n",
       "      <td>27764</td>\n",
       "      <td>4533151.68</td>\n",
       "      <td>4557905.42</td>\n",
       "    </tr>\n",
       "  </tbody>\n",
       "</table>\n",
       "</div>"
      ],
      "text/plain": [
       "         Order ID  Quantity Ordered  Price Each  Total Amount\n",
       "Month                                                        \n",
       "1      1391148846             10670  1776155.79    1786511.29\n",
       "2      1832181724             13162  2145208.87    2158127.48\n",
       "3      2520234917             16697  2740393.12    2755969.40\n",
       "4      3333217539             20226  3313522.35    3336376.42\n",
       "5      3289290354             18344  3084756.09    3101881.04\n",
       "6      2876409942             14964  2508863.49    2524464.99\n",
       "7      3224356195             15781  2572764.75    2587444.91\n",
       "8      2840777365             13185  2178183.81    2191698.31\n",
       "9      2886380303             12827  2038019.59    2050361.26\n",
       "10     5374745444             22356  3658884.86    3679254.16\n",
       "11     4964034464             19479  3130968.77    3149785.09\n",
       "12     7593831188             27764  4533151.68    4557905.42"
      ]
     },
     "execution_count": 58,
     "metadata": {},
     "output_type": "execute_result"
    }
   ],
   "source": [
    "# maybe this column would have helped\n",
    "data['Total Amount'] = round((data['Price Each']*data['Quantity Ordered']).astype(float),2)\n",
    "data.groupby(\"Month\").sum()"
   ]
  },
  {
   "cell_type": "code",
   "execution_count": 63,
   "id": "8d7364e6",
   "metadata": {},
   "outputs": [
    {
     "data": {
      "image/png": "[encoded data removed]",
      "text/plain": [
       "<Figure size 432x288 with 1 Axes>"
      ]
     },
     "metadata": {
      "needs_background": "light"
     },
     "output_type": "display_data"
    }
   ],
   "source": [
    "results = data.groupby(\"Month\").sum()\n",
    "months = range(1,13)\n",
    "plt.bar(months,results[\"Total Amount\"])\n",
    "plt.xticks(months)\n",
    "plt.ylabel(\"Sales in $MM\")\n",
    "plt.xlabel(\"Months\")\n",
    "plt.show()"
   ]
  },
  {
   "cell_type": "markdown",
   "id": "5b07a9ac",
   "metadata": {},
   "source": [
    "### What city had the highest numbers of sales?"
   ]
  },
  {
   "cell_type": "code",
   "execution_count": 88,
   "id": "4ada528f",
   "metadata": {},
   "outputs": [
    {
     "data": {
      "text/html": [
       "<div>\n",
       "<style scoped>\n",
       "    .dataframe tbody tr th:only-of-type {\n",
       "        vertical-align: middle;\n",
       "    }\n",
       "\n",
       "    .dataframe tbody tr th {\n",
       "        vertical-align: top;\n",
       "    }\n",
       "\n",
       "    .dataframe thead th {\n",
       "        text-align: right;\n",
       "    }\n",
       "</style>\n",
       "<table border=\"1\" class=\"dataframe\">\n",
       "  <thead>\n",
       "    <tr style=\"text-align: right;\">\n",
       "      <th></th>\n",
       "      <th>Order ID</th>\n",
       "      <th>Quantity Ordered</th>\n",
       "      <th>Price Each</th>\n",
       "      <th>Month</th>\n",
       "      <th>Total Amount</th>\n",
       "    </tr>\n",
       "    <tr>\n",
       "      <th>City</th>\n",
       "      <th></th>\n",
       "      <th></th>\n",
       "      <th></th>\n",
       "      <th></th>\n",
       "      <th></th>\n",
       "    </tr>\n",
       "  </thead>\n",
       "  <tbody>\n",
       "    <tr>\n",
       "      <th>Atlanta</th>\n",
       "      <td>3366679952</td>\n",
       "      <td>16304</td>\n",
       "      <td>2726247.35</td>\n",
       "      <td>103160</td>\n",
       "      <td>2741642.05</td>\n",
       "    </tr>\n",
       "    <tr>\n",
       "      <th>Austin</th>\n",
       "      <td>2238557673</td>\n",
       "      <td>10933</td>\n",
       "      <td>1777231.68</td>\n",
       "      <td>68570</td>\n",
       "      <td>1786745.52</td>\n",
       "    </tr>\n",
       "    <tr>\n",
       "      <th>Boston</th>\n",
       "      <td>4517043947</td>\n",
       "      <td>22123</td>\n",
       "      <td>3580075.00</td>\n",
       "      <td>138632</td>\n",
       "      <td>3604080.86</td>\n",
       "    </tr>\n",
       "    <tr>\n",
       "      <th>Dallas</th>\n",
       "      <td>3360280471</td>\n",
       "      <td>16453</td>\n",
       "      <td>2702619.12</td>\n",
       "      <td>102976</td>\n",
       "      <td>2717793.72</td>\n",
       "    </tr>\n",
       "    <tr>\n",
       "      <th>Los Angeles</th>\n",
       "      <td>6698824762</td>\n",
       "      <td>32722</td>\n",
       "      <td>5323915.79</td>\n",
       "      <td>204933</td>\n",
       "      <td>5354039.93</td>\n",
       "    </tr>\n",
       "    <tr>\n",
       "      <th>New York City</th>\n",
       "      <td>5643048641</td>\n",
       "      <td>27470</td>\n",
       "      <td>4553287.23</td>\n",
       "      <td>172980</td>\n",
       "      <td>4581658.91</td>\n",
       "    </tr>\n",
       "    <tr>\n",
       "      <th>Portland</th>\n",
       "      <td>2823788673</td>\n",
       "      <td>13806</td>\n",
       "      <td>2264580.11</td>\n",
       "      <td>86429</td>\n",
       "      <td>2276649.24</td>\n",
       "    </tr>\n",
       "    <tr>\n",
       "      <th>San Francisco</th>\n",
       "      <td>10127798551</td>\n",
       "      <td>49363</td>\n",
       "      <td>8074045.54</td>\n",
       "      <td>310174</td>\n",
       "      <td>8124120.94</td>\n",
       "    </tr>\n",
       "    <tr>\n",
       "      <th>Seattle</th>\n",
       "      <td>3350585611</td>\n",
       "      <td>16281</td>\n",
       "      <td>2678871.35</td>\n",
       "      <td>103213</td>\n",
       "      <td>2693048.60</td>\n",
       "    </tr>\n",
       "  </tbody>\n",
       "</table>\n",
       "</div>"
      ],
      "text/plain": [
       "                   Order ID  Quantity Ordered  Price Each   Month  \\\n",
       "City                                                                \n",
       " Atlanta         3366679952             16304  2726247.35  103160   \n",
       " Austin          2238557673             10933  1777231.68   68570   \n",
       " Boston          4517043947             22123  3580075.00  138632   \n",
       " Dallas          3360280471             16453  2702619.12  102976   \n",
       " Los Angeles     6698824762             32722  5323915.79  204933   \n",
       " New York City   5643048641             27470  4553287.23  172980   \n",
       " Portland        2823788673             13806  2264580.11   86429   \n",
       " San Francisco  10127798551             49363  8074045.54  310174   \n",
       " Seattle         3350585611             16281  2678871.35  103213   \n",
       "\n",
       "                Total Amount  \n",
       "City                          \n",
       " Atlanta          2741642.05  \n",
       " Austin           1786745.52  \n",
       " Boston           3604080.86  \n",
       " Dallas           2717793.72  \n",
       " Los Angeles      5354039.93  \n",
       " New York City    4581658.91  \n",
       " Portland         2276649.24  \n",
       " San Francisco    8124120.94  \n",
       " Seattle          2693048.60  "
      ]
     },
     "execution_count": 88,
     "metadata": {},
     "output_type": "execute_result"
    }
   ],
   "source": [
    "data[\"City\"] = data[\"Purchase Address\"].str.split(\",\",1, expand=True)[1].str.split(\",\",1, expand=True)[0]\n",
    "data.groupby(\"City\").sum()"
   ]
  },
  {
   "cell_type": "markdown",
   "id": "e60d17d7",
   "metadata": {},
   "source": [
    "Its San Francisco with 8124120.94"
   ]
  },
  {
   "cell_type": "code",
   "execution_count": 94,
   "id": "d3079b2c",
   "metadata": {},
   "outputs": [
    {
     "data": {
      "image/png": "[encoded data removed]",
      "text/plain": [
       "<Figure size 432x288 with 1 Axes>"
      ]
     },
     "metadata": {
      "needs_background": "light"
     },
     "output_type": "display_data"
    }
   ],
   "source": [
    "cities = list(set(data[\"City\"].to_list()))\n",
    "results = data.groupby(\"City\").sum()\n",
    "plt.bar(cities,results[\"Total Amount\"])\n",
    "plt.xticks(cities)\n",
    "plt.ylabel(\"Sales in $MM\")\n",
    "plt.xlabel(\"Cities\")\n",
    "plt.show()"
   ]
  },
  {
   "cell_type": "code",
   "execution_count": null,
   "id": "2e721235",
   "metadata": {},
   "outputs": [],
   "source": []
  },
  {
   "cell_type": "code",
   "execution_count": null,
   "id": "4d45ab3f",
   "metadata": {},
   "outputs": [],
   "source": []
  },
  {
   "cell_type": "code",
   "execution_count": null,
   "id": "fe1375ea",
   "metadata": {},
   "outputs": [],
   "source": []
  },
  {
   "cell_type": "code",
   "execution_count": null,
   "id": "ea02dbf2",
   "metadata": {},
   "outputs": [],
   "source": []
  },
  {
   "cell_type": "code",
   "execution_count": null,
   "id": "1c7529f8",
   "metadata": {},
   "outputs": [],
   "source": []
  },
  {
   "cell_type": "code",
   "execution_count": null,
   "id": "eb21069d",
   "metadata": {},
   "outputs": [],
   "source": []
  },
  {
   "cell_type": "code",
   "execution_count": null,
   "id": "cb74addc",
   "metadata": {},
   "outputs": [],
   "source": []
  },
  {
   "cell_type": "code",
   "execution_count": null,
   "id": "233f1aa1",
   "metadata": {},
   "outputs": [],
   "source": []
  },
  {
   "cell_type": "code",
   "execution_count": null,
   "id": "1a62b374",
   "metadata": {},
   "outputs": [],
   "source": []
  },
  {
   "cell_type": "code",
   "execution_count": null,
   "id": "09459537",
   "metadata": {},
   "outputs": [],
   "source": []
  }
 ],
 "metadata": {
  "kernelspec": {
   "display_name": "Python 3 (ipykernel)",
   "language": "python",
   "name": "python3"
  },
  "language_info": {
   "codemirror_mode": {
    "name": "ipython",
    "version": 3
   },
   "file_extension": ".py",
   "mimetype": "text/x-python",
   "name": "python",
   "nbconvert_exporter": "python",
   "pygments_lexer": "ipython3",
   "version": "3.8.10"
  }
 },
 "nbformat": 4,
 "nbformat_minor": 5
}
