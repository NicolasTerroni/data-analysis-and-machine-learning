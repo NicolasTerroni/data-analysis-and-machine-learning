{
 "cells": [
  {
   "cell_type": "code",
   "execution_count": 1,
   "id": "8e29842b",
   "metadata": {},
   "outputs": [],
   "source": [
    "import pandas as pd\n",
    "import glob, os"
   ]
  },
  {
   "cell_type": "markdown",
   "id": "9cae63e6",
   "metadata": {},
   "source": [
    "### Merging 12 months of sales data into a single file"
   ]
  },
  {
   "cell_type": "markdown",
   "id": "5e9a33f5",
   "metadata": {},
   "source": [
    "Also a single csv just in case that we need it"
   ]
  },
  {
   "cell_type": "code",
   "execution_count": 94,
   "id": "893eb06e",
   "metadata": {},
   "outputs": [],
   "source": [
    "csv_files = [file for files in os.listdir(\"../datasets/Sales_Data\")]\n",
    "\n",
    "# We also can use:\n",
    "#csv_files = glob.glob(os.path.join(mainpath, \"*.csv\"))\n",
    "\n",
    "data = pd.DataFrame()\n",
    "\n",
    "for file in csv_files:\n",
    "    new_data =  pd.read_csv(file)\n",
    "    data = pd.concat([data,new_data],axis=0)\n",
    "    \n",
    "# remove headers\n",
    "trash_data = data.loc[data['Order Date']=='Order Date'].index\n",
    "data.drop(trash_data, inplace = True) \n",
    "\n",
    "# save all data in a single csv file\n",
    "data.to_csv(mainpath+\"/full_dataset/Sales_all_2019.csv\",index=False)\n"
   ]
  },
  {
   "cell_type": "code",
   "execution_count": null,
   "id": "af4892de",
   "metadata": {},
   "outputs": [],
   "source": [
    "\"\"\" \n",
    "First solution (before realizing that I had to clean the data):\n",
    "\n",
    "data['DateTime'] = pd.to_datetime(data['Order Date'], format='%m/%d/%y %H:%M', errors=\"coerce\")\n",
    "#data['Quantity Ordered'] =  data['Quantity Ordered'].astype(int)\n",
    "#data['Price Each'] =  data['Price Each'].astype(float)\n",
    "\n",
    "grouped_by_month = data.groupby(data[\"DateTime\"].dt.month)\n",
    "groups_keys = grouped_by_month.groups.keys()\n",
    "\n",
    "sales_for_each_month = {}\n",
    "for group in groups_keys:\n",
    "    sales_for_each_month[group] = 0\n",
    "    month_sales = grouped_by_month.get_group(group)\n",
    "    for index, row in month_sales.iterrows():\n",
    "        try:\n",
    "            value = float(row['Price Each']) * int(row['Quantity Ordered'])\n",
    "        except TypeError:\n",
    "            indices_rotos.append(index)\n",
    "            continue\n",
    "        sales_for_each_month[group] += value\n",
    "sales_for_each_month\n",
    "\"\"\""
   ]
  },
  {
   "cell_type": "markdown",
   "id": "101c6355",
   "metadata": {},
   "source": [
    "### Clean data"
   ]
  },
  {
   "cell_type": "code",
   "execution_count": 111,
   "id": "03b3e71a",
   "metadata": {},
   "outputs": [
    {
     "data": {
      "text/html": [
       "<div>\n",
       "<style scoped>\n",
       "    .dataframe tbody tr th:only-of-type {\n",
       "        vertical-align: middle;\n",
       "    }\n",
       "\n",
       "    .dataframe tbody tr th {\n",
       "        vertical-align: top;\n",
       "    }\n",
       "\n",
       "    .dataframe thead th {\n",
       "        text-align: right;\n",
       "    }\n",
       "</style>\n",
       "<table border=\"1\" class=\"dataframe\">\n",
       "  <thead>\n",
       "    <tr style=\"text-align: right;\">\n",
       "      <th></th>\n",
       "      <th>Order ID</th>\n",
       "      <th>Product</th>\n",
       "      <th>Quantity Ordered</th>\n",
       "      <th>Price Each</th>\n",
       "      <th>Purchase Address</th>\n",
       "      <th>DateTime</th>\n",
       "      <th>Month</th>\n",
       "    </tr>\n",
       "  </thead>\n",
       "  <tbody>\n",
       "    <tr>\n",
       "      <th>0</th>\n",
       "      <td>236670</td>\n",
       "      <td>Wired Headphones</td>\n",
       "      <td>2</td>\n",
       "      <td>11.99</td>\n",
       "      <td>359 Spruce St, Seattle, WA 98101</td>\n",
       "      <td>2019-08-31 22:21:00</td>\n",
       "      <td>8</td>\n",
       "    </tr>\n",
       "    <tr>\n",
       "      <th>1</th>\n",
       "      <td>236671</td>\n",
       "      <td>Bose SoundSport Headphones</td>\n",
       "      <td>1</td>\n",
       "      <td>99.99</td>\n",
       "      <td>492 Ridge St, Dallas, TX 75001</td>\n",
       "      <td>2019-08-15 15:11:00</td>\n",
       "      <td>8</td>\n",
       "    </tr>\n",
       "    <tr>\n",
       "      <th>2</th>\n",
       "      <td>236672</td>\n",
       "      <td>iPhone</td>\n",
       "      <td>1</td>\n",
       "      <td>700.00</td>\n",
       "      <td>149 7th St, Portland, OR 97035</td>\n",
       "      <td>2019-08-06 14:40:00</td>\n",
       "      <td>8</td>\n",
       "    </tr>\n",
       "    <tr>\n",
       "      <th>3</th>\n",
       "      <td>236673</td>\n",
       "      <td>AA Batteries (4-pack)</td>\n",
       "      <td>2</td>\n",
       "      <td>3.84</td>\n",
       "      <td>631 2nd St, Los Angeles, CA 90001</td>\n",
       "      <td>2019-08-29 20:59:00</td>\n",
       "      <td>8</td>\n",
       "    </tr>\n",
       "    <tr>\n",
       "      <th>4</th>\n",
       "      <td>236674</td>\n",
       "      <td>AA Batteries (4-pack)</td>\n",
       "      <td>2</td>\n",
       "      <td>3.84</td>\n",
       "      <td>736 14th St, New York City, NY 10001</td>\n",
       "      <td>2019-08-15 19:53:00</td>\n",
       "      <td>8</td>\n",
       "    </tr>\n",
       "  </tbody>\n",
       "</table>\n",
       "</div>"
      ],
      "text/plain": [
       "   Order ID                     Product  Quantity Ordered  Price Each  \\\n",
       "0    236670            Wired Headphones                 2       11.99   \n",
       "1    236671  Bose SoundSport Headphones                 1       99.99   \n",
       "2    236672                      iPhone                 1      700.00   \n",
       "3    236673       AA Batteries (4-pack)                 2        3.84   \n",
       "4    236674       AA Batteries (4-pack)                 2        3.84   \n",
       "\n",
       "                       Purchase Address            DateTime  Month  \n",
       "0      359 Spruce St, Seattle, WA 98101 2019-08-31 22:21:00      8  \n",
       "1        492 Ridge St, Dallas, TX 75001 2019-08-15 15:11:00      8  \n",
       "2        149 7th St, Portland, OR 97035 2019-08-06 14:40:00      8  \n",
       "3     631 2nd St, Los Angeles, CA 90001 2019-08-29 20:59:00      8  \n",
       "4  736 14th St, New York City, NY 10001 2019-08-15 19:53:00      8  "
      ]
     },
     "execution_count": 111,
     "metadata": {},
     "output_type": "execute_result"
    }
   ],
   "source": [
    "data = pd.read_csv(mainpath+\"/full_dataset/Sales_all_2019.csv\")\n",
    "data = data.dropna(axis=0,how=\"all\")\n",
    "\n",
    "data['DateTime'] = pd.to_datetime(data['Order Date'], format='%m/%d/%y %H:%M')\n",
    "                                  \n",
    "data['Month'] = data['Order Date'].str[:2]\n",
    "data['Month'] = data['Month'].astype('int32')\n",
    "\n",
    "data = data.drop(['Order Date'],axis=1)\n",
    "\n",
    "data['Order ID'] = data['Order ID'].astype(int)\n",
    "data['Product'] = data['Product'].astype(str)\n",
    "data['Quantity Ordered'] = data['Quantity Ordered'].astype(int)\n",
    "data['Price Each'] = data['Price Each'].astype(float)\n",
    "data['Purchase Address'] = data['Purchase Address'].astype(str)\n",
    "\n",
    "data.head()"
   ]
  },
  {
   "cell_type": "code",
   "execution_count": 114,
   "id": "73cc1949",
   "metadata": {},
   "outputs": [
    {
     "data": {
      "text/plain": [
       "(155441, 7)"
      ]
     },
     "execution_count": 114,
     "metadata": {},
     "output_type": "execute_result"
    }
   ],
   "source": [
    "data.shape"
   ]
  },
  {
   "cell_type": "markdown",
   "id": "6fed98c7",
   "metadata": {},
   "source": [
    "### Which was the best month for sales?"
   ]
  },
  {
   "cell_type": "code",
   "execution_count": null,
   "id": "5aec6906",
   "metadata": {},
   "outputs": [],
   "source": []
  }
 ],
 "metadata": {
  "kernelspec": {
   "display_name": "Python 3 (ipykernel)",
   "language": "python",
   "name": "python3"
  },
  "language_info": {
   "codemirror_mode": {
    "name": "ipython",
    "version": 3
   },
   "file_extension": ".py",
   "mimetype": "text/x-python",
   "name": "python",
   "nbconvert_exporter": "python",
   "pygments_lexer": "ipython3",
   "version": "3.8.10"
  }
 },
 "nbformat": 4,
 "nbformat_minor": 5
}
