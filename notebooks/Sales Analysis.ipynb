{
 "cells": [
  {
   "cell_type": "code",
   "execution_count": 1,
   "id": "8e29842b",
   "metadata": {},
   "outputs": [],
   "source": [
    "import pandas as pd\n",
    "import glob, os\n",
    "import matplotlib.pyplot as plt"
   ]
  },
  {
   "cell_type": "markdown",
   "id": "9cae63e6",
   "metadata": {},
   "source": [
    "### Merging 12 months of sales data into a single file"
   ]
  },
  {
   "cell_type": "markdown",
   "id": "5e9a33f5",
   "metadata": {},
   "source": [
    "Also a single csv just in case that we need it"
   ]
  },
  {
   "cell_type": "code",
   "execution_count": 2,
   "id": "893eb06e",
   "metadata": {},
   "outputs": [],
   "source": [
    "mainpath = \"/home/nicolasterroni/projects/cursos/data-analysis-and-machine-learning/datasets\"\n",
    "#csv_files = [file for files in os.listdir(\"mainpath\")]\n",
    "\n",
    "# We also can use:\n",
    "csv_files = glob.glob(os.path.join(mainpath+\"/Sales_Data/\", \"*.csv\"))\n",
    "\n",
    "data = pd.DataFrame()\n",
    "\n",
    "for file in csv_files:\n",
    "    new_data =  pd.read_csv(file)\n",
    "    data = pd.concat([data,new_data],axis=0)\n",
    "    \n",
    "# remove headers\n",
    "trash_data = data.loc[data['Order Date']=='Order Date'].index\n",
    "data.drop(trash_data, inplace = True) \n",
    "\n",
    "# save all data in a single csv file\n",
    "data.to_csv(mainpath+\"/full_dataset/Sales_all_2019.csv\",index=False)"
   ]
  },
  {
   "cell_type": "markdown",
   "id": "101c6355",
   "metadata": {},
   "source": [
    "### Clean data"
   ]
  },
  {
   "cell_type": "code",
   "execution_count": 3,
   "id": "9317bae3",
   "metadata": {},
   "outputs": [],
   "source": [
    "# headers of all csvs in our main dataset\n",
    "trash_data = data.loc[data['Order Date']=='Order Date'].index\n",
    "data.drop(trash_data, inplace = True) \n",
    "data = data.dropna(axis=0,how=\"all\")"
   ]
  },
  {
   "cell_type": "code",
   "execution_count": 4,
   "id": "03b3e71a",
   "metadata": {},
   "outputs": [
    {
     "data": {
      "text/html": [
       "<div>\n",
       "<style scoped>\n",
       "    .dataframe tbody tr th:only-of-type {\n",
       "        vertical-align: middle;\n",
       "    }\n",
       "\n",
       "    .dataframe tbody tr th {\n",
       "        vertical-align: top;\n",
       "    }\n",
       "\n",
       "    .dataframe thead th {\n",
       "        text-align: right;\n",
       "    }\n",
       "</style>\n",
       "<table border=\"1\" class=\"dataframe\">\n",
       "  <thead>\n",
       "    <tr style=\"text-align: right;\">\n",
       "      <th></th>\n",
       "      <th>Order ID</th>\n",
       "      <th>Product</th>\n",
       "      <th>Quantity Ordered</th>\n",
       "      <th>Price Each</th>\n",
       "      <th>Purchase Address</th>\n",
       "      <th>DateTime</th>\n",
       "      <th>Month</th>\n",
       "    </tr>\n",
       "  </thead>\n",
       "  <tbody>\n",
       "    <tr>\n",
       "      <th>0</th>\n",
       "      <td>176558</td>\n",
       "      <td>USB-C Charging Cable</td>\n",
       "      <td>2</td>\n",
       "      <td>11.95</td>\n",
       "      <td>917 1st St, Dallas, TX 75001</td>\n",
       "      <td>2019-04-19 08:46:00</td>\n",
       "      <td>4</td>\n",
       "    </tr>\n",
       "    <tr>\n",
       "      <th>2</th>\n",
       "      <td>176559</td>\n",
       "      <td>Bose SoundSport Headphones</td>\n",
       "      <td>1</td>\n",
       "      <td>99.99</td>\n",
       "      <td>682 Chestnut St, Boston, MA 02215</td>\n",
       "      <td>2019-04-07 22:30:00</td>\n",
       "      <td>4</td>\n",
       "    </tr>\n",
       "    <tr>\n",
       "      <th>3</th>\n",
       "      <td>176560</td>\n",
       "      <td>Google Phone</td>\n",
       "      <td>1</td>\n",
       "      <td>600.00</td>\n",
       "      <td>669 Spruce St, Los Angeles, CA 90001</td>\n",
       "      <td>2019-04-12 14:38:00</td>\n",
       "      <td>4</td>\n",
       "    </tr>\n",
       "    <tr>\n",
       "      <th>4</th>\n",
       "      <td>176560</td>\n",
       "      <td>Wired Headphones</td>\n",
       "      <td>1</td>\n",
       "      <td>11.99</td>\n",
       "      <td>669 Spruce St, Los Angeles, CA 90001</td>\n",
       "      <td>2019-04-12 14:38:00</td>\n",
       "      <td>4</td>\n",
       "    </tr>\n",
       "    <tr>\n",
       "      <th>5</th>\n",
       "      <td>176561</td>\n",
       "      <td>Wired Headphones</td>\n",
       "      <td>1</td>\n",
       "      <td>11.99</td>\n",
       "      <td>333 8th St, Los Angeles, CA 90001</td>\n",
       "      <td>2019-04-30 09:27:00</td>\n",
       "      <td>4</td>\n",
       "    </tr>\n",
       "  </tbody>\n",
       "</table>\n",
       "</div>"
      ],
      "text/plain": [
       "   Order ID                     Product  Quantity Ordered  Price Each  \\\n",
       "0    176558        USB-C Charging Cable                 2       11.95   \n",
       "2    176559  Bose SoundSport Headphones                 1       99.99   \n",
       "3    176560                Google Phone                 1      600.00   \n",
       "4    176560            Wired Headphones                 1       11.99   \n",
       "5    176561            Wired Headphones                 1       11.99   \n",
       "\n",
       "                       Purchase Address            DateTime  Month  \n",
       "0          917 1st St, Dallas, TX 75001 2019-04-19 08:46:00      4  \n",
       "2     682 Chestnut St, Boston, MA 02215 2019-04-07 22:30:00      4  \n",
       "3  669 Spruce St, Los Angeles, CA 90001 2019-04-12 14:38:00      4  \n",
       "4  669 Spruce St, Los Angeles, CA 90001 2019-04-12 14:38:00      4  \n",
       "5     333 8th St, Los Angeles, CA 90001 2019-04-30 09:27:00      4  "
      ]
     },
     "execution_count": 4,
     "metadata": {},
     "output_type": "execute_result"
    }
   ],
   "source": [
    "data['DateTime'] = pd.to_datetime(data['Order Date'], format='%m/%d/%y %H:%M')\n",
    "                                  \n",
    "data['Month'] = data['DateTime'].dt.month\n",
    "data['Month'] = pd.to_numeric(data['Month'])\n",
    "\n",
    "data = data.drop(['Order Date'],axis=1)\n",
    "\n",
    "data['Order ID'] = pd.to_numeric(data['Order ID'])\n",
    "data['Product'] = data['Product'].astype(str)\n",
    "data['Quantity Ordered'] = pd.to_numeric(data['Quantity Ordered'])\n",
    "data['Price Each'] = pd.to_numeric(data['Price Each'])\n",
    "data['Purchase Address'] = data['Purchase Address'].astype(str)\n",
    "\n",
    "data.head()"
   ]
  },
  {
   "cell_type": "markdown",
   "id": "6fed98c7",
   "metadata": {},
   "source": [
    "### Which was the best month for sales?"
   ]
  },
  {
   "cell_type": "markdown",
   "id": "974802de",
   "metadata": {},
   "source": [
    "##### Group sales per month"
   ]
  },
  {
   "cell_type": "code",
   "execution_count": 5,
   "id": "e37f0b49",
   "metadata": {},
   "outputs": [],
   "source": [
    "grouped_by_month = data.groupby(data[\"Month\"])\n",
    "groups_keys = grouped_by_month.groups.keys()"
   ]
  },
  {
   "cell_type": "markdown",
   "id": "f3491bbf",
   "metadata": {},
   "source": [
    "##### Sum sales per month"
   ]
  },
  {
   "cell_type": "code",
   "execution_count": 6,
   "id": "5aec6906",
   "metadata": {},
   "outputs": [
    {
     "data": {
      "text/plain": [
       "{1: 1786511.289999915,\n",
       " 2: 2158127.479999929,\n",
       " 3: 2755969.40000032,\n",
       " 4: 3336376.4200006723,\n",
       " 5: 3101881.0400005206,\n",
       " 6: 2524464.990000136,\n",
       " 7: 2587444.910000183,\n",
       " 8: 2191698.3099999647,\n",
       " 9: 2050361.2599998936,\n",
       " 10: 3679254.160000939,\n",
       " 11: 3149785.0900005554,\n",
       " 12: 4557905.420001494}"
      ]
     },
     "execution_count": 6,
     "metadata": {},
     "output_type": "execute_result"
    }
   ],
   "source": [
    "sales_for_each_month = {}\n",
    "for group in groups_keys:\n",
    "    sales_for_each_month[group] = 0\n",
    "    month_sales = grouped_by_month.get_group(group)\n",
    "    for index, row in month_sales.iterrows():\n",
    "        value = float(row['Price Each']) * int(row['Quantity Ordered'])\n",
    "        sales_for_each_month[group] += round(value,2)\n",
    "sales_for_each_month"
   ]
  },
  {
   "cell_type": "markdown",
   "id": "5626f75f",
   "metadata": {},
   "source": [
    "It was december with 4557905.42"
   ]
  },
  {
   "cell_type": "markdown",
   "id": "56856393",
   "metadata": {},
   "source": [
    "##### Better solution and plot"
   ]
  },
  {
   "cell_type": "code",
   "execution_count": 7,
   "id": "a49ff32c",
   "metadata": {},
   "outputs": [
    {
     "data": {
      "text/html": [
       "<div>\n",
       "<style scoped>\n",
       "    .dataframe tbody tr th:only-of-type {\n",
       "        vertical-align: middle;\n",
       "    }\n",
       "\n",
       "    .dataframe tbody tr th {\n",
       "        vertical-align: top;\n",
       "    }\n",
       "\n",
       "    .dataframe thead th {\n",
       "        text-align: right;\n",
       "    }\n",
       "</style>\n",
       "<table border=\"1\" class=\"dataframe\">\n",
       "  <thead>\n",
       "    <tr style=\"text-align: right;\">\n",
       "      <th></th>\n",
       "      <th>Order ID</th>\n",
       "      <th>Quantity Ordered</th>\n",
       "      <th>Price Each</th>\n",
       "      <th>Total Amount</th>\n",
       "    </tr>\n",
       "    <tr>\n",
       "      <th>Month</th>\n",
       "      <th></th>\n",
       "      <th></th>\n",
       "      <th></th>\n",
       "      <th></th>\n",
       "    </tr>\n",
       "  </thead>\n",
       "  <tbody>\n",
       "    <tr>\n",
       "      <th>1</th>\n",
       "      <td>1391148846</td>\n",
       "      <td>10670</td>\n",
       "      <td>1776155.79</td>\n",
       "      <td>1786511.29</td>\n",
       "    </tr>\n",
       "    <tr>\n",
       "      <th>2</th>\n",
       "      <td>1832181724</td>\n",
       "      <td>13162</td>\n",
       "      <td>2145208.87</td>\n",
       "      <td>2158127.48</td>\n",
       "    </tr>\n",
       "    <tr>\n",
       "      <th>3</th>\n",
       "      <td>2520234917</td>\n",
       "      <td>16697</td>\n",
       "      <td>2740393.12</td>\n",
       "      <td>2755969.40</td>\n",
       "    </tr>\n",
       "    <tr>\n",
       "      <th>4</th>\n",
       "      <td>3333217539</td>\n",
       "      <td>20226</td>\n",
       "      <td>3313522.35</td>\n",
       "      <td>3336376.42</td>\n",
       "    </tr>\n",
       "    <tr>\n",
       "      <th>5</th>\n",
       "      <td>3289290354</td>\n",
       "      <td>18344</td>\n",
       "      <td>3084756.09</td>\n",
       "      <td>3101881.04</td>\n",
       "    </tr>\n",
       "    <tr>\n",
       "      <th>6</th>\n",
       "      <td>2876409942</td>\n",
       "      <td>14964</td>\n",
       "      <td>2508863.49</td>\n",
       "      <td>2524464.99</td>\n",
       "    </tr>\n",
       "    <tr>\n",
       "      <th>7</th>\n",
       "      <td>3224356195</td>\n",
       "      <td>15781</td>\n",
       "      <td>2572764.75</td>\n",
       "      <td>2587444.91</td>\n",
       "    </tr>\n",
       "    <tr>\n",
       "      <th>8</th>\n",
       "      <td>2840777365</td>\n",
       "      <td>13185</td>\n",
       "      <td>2178183.81</td>\n",
       "      <td>2191698.31</td>\n",
       "    </tr>\n",
       "    <tr>\n",
       "      <th>9</th>\n",
       "      <td>2886380303</td>\n",
       "      <td>12827</td>\n",
       "      <td>2038019.59</td>\n",
       "      <td>2050361.26</td>\n",
       "    </tr>\n",
       "    <tr>\n",
       "      <th>10</th>\n",
       "      <td>5374745444</td>\n",
       "      <td>22356</td>\n",
       "      <td>3658884.86</td>\n",
       "      <td>3679254.16</td>\n",
       "    </tr>\n",
       "    <tr>\n",
       "      <th>11</th>\n",
       "      <td>4964034464</td>\n",
       "      <td>19479</td>\n",
       "      <td>3130968.77</td>\n",
       "      <td>3149785.09</td>\n",
       "    </tr>\n",
       "    <tr>\n",
       "      <th>12</th>\n",
       "      <td>7593831188</td>\n",
       "      <td>27764</td>\n",
       "      <td>4533151.68</td>\n",
       "      <td>4557905.42</td>\n",
       "    </tr>\n",
       "  </tbody>\n",
       "</table>\n",
       "</div>"
      ],
      "text/plain": [
       "         Order ID  Quantity Ordered  Price Each  Total Amount\n",
       "Month                                                        \n",
       "1      1391148846             10670  1776155.79    1786511.29\n",
       "2      1832181724             13162  2145208.87    2158127.48\n",
       "3      2520234917             16697  2740393.12    2755969.40\n",
       "4      3333217539             20226  3313522.35    3336376.42\n",
       "5      3289290354             18344  3084756.09    3101881.04\n",
       "6      2876409942             14964  2508863.49    2524464.99\n",
       "7      3224356195             15781  2572764.75    2587444.91\n",
       "8      2840777365             13185  2178183.81    2191698.31\n",
       "9      2886380303             12827  2038019.59    2050361.26\n",
       "10     5374745444             22356  3658884.86    3679254.16\n",
       "11     4964034464             19479  3130968.77    3149785.09\n",
       "12     7593831188             27764  4533151.68    4557905.42"
      ]
     },
     "execution_count": 7,
     "metadata": {},
     "output_type": "execute_result"
    }
   ],
   "source": [
    "# maybe this column would have helped\n",
    "data['Total Amount'] = round((data['Price Each']*data['Quantity Ordered']).astype(float),2)\n",
    "data.groupby(\"Month\").sum()"
   ]
  },
  {
   "cell_type": "code",
   "execution_count": 8,
   "id": "57bc12d7",
   "metadata": {},
   "outputs": [
    {
     "data": {
      "image/png": "[encoded data removed]",
      "text/plain": [
       "<Figure size 432x288 with 1 Axes>"
      ]
     },
     "metadata": {
      "needs_background": "light"
     },
     "output_type": "display_data"
    }
   ],
   "source": [
    "results = data.groupby(\"Month\").sum()\n",
    "months = range(1,13)\n",
    "plt.bar(months,results[\"Total Amount\"])\n",
    "plt.xticks(months)\n",
    "plt.ylabel(\"Sales in $MM\")\n",
    "plt.xlabel(\"Months\")\n",
    "plt.show()"
   ]
  },
  {
   "cell_type": "markdown",
   "id": "1b3a6f2d",
   "metadata": {},
   "source": [
    "### What city had the highest numbers of sales?"
   ]
  },
  {
   "cell_type": "code",
   "execution_count": 9,
   "id": "84a21b2c",
   "metadata": {},
   "outputs": [
    {
     "data": {
      "text/html": [
       "<div>\n",
       "<style scoped>\n",
       "    .dataframe tbody tr th:only-of-type {\n",
       "        vertical-align: middle;\n",
       "    }\n",
       "\n",
       "    .dataframe tbody tr th {\n",
       "        vertical-align: top;\n",
       "    }\n",
       "\n",
       "    .dataframe thead th {\n",
       "        text-align: right;\n",
       "    }\n",
       "</style>\n",
       "<table border=\"1\" class=\"dataframe\">\n",
       "  <thead>\n",
       "    <tr style=\"text-align: right;\">\n",
       "      <th></th>\n",
       "      <th>Order ID</th>\n",
       "      <th>Quantity Ordered</th>\n",
       "      <th>Price Each</th>\n",
       "      <th>Month</th>\n",
       "      <th>Total Amount</th>\n",
       "    </tr>\n",
       "    <tr>\n",
       "      <th>City</th>\n",
       "      <th></th>\n",
       "      <th></th>\n",
       "      <th></th>\n",
       "      <th></th>\n",
       "      <th></th>\n",
       "    </tr>\n",
       "  </thead>\n",
       "  <tbody>\n",
       "    <tr>\n",
       "      <th>Atlanta</th>\n",
       "      <td>3366679952</td>\n",
       "      <td>16304</td>\n",
       "      <td>2726247.35</td>\n",
       "      <td>103160</td>\n",
       "      <td>2741642.05</td>\n",
       "    </tr>\n",
       "    <tr>\n",
       "      <th>Austin</th>\n",
       "      <td>2238557673</td>\n",
       "      <td>10933</td>\n",
       "      <td>1777231.68</td>\n",
       "      <td>68570</td>\n",
       "      <td>1786745.52</td>\n",
       "    </tr>\n",
       "    <tr>\n",
       "      <th>Boston</th>\n",
       "      <td>4517043947</td>\n",
       "      <td>22123</td>\n",
       "      <td>3580075.00</td>\n",
       "      <td>138632</td>\n",
       "      <td>3604080.86</td>\n",
       "    </tr>\n",
       "    <tr>\n",
       "      <th>Dallas</th>\n",
       "      <td>3360280471</td>\n",
       "      <td>16453</td>\n",
       "      <td>2702619.12</td>\n",
       "      <td>102976</td>\n",
       "      <td>2717793.72</td>\n",
       "    </tr>\n",
       "    <tr>\n",
       "      <th>Los Angeles</th>\n",
       "      <td>6698824762</td>\n",
       "      <td>32722</td>\n",
       "      <td>5323915.79</td>\n",
       "      <td>204933</td>\n",
       "      <td>5354039.93</td>\n",
       "    </tr>\n",
       "    <tr>\n",
       "      <th>New York City</th>\n",
       "      <td>5643048641</td>\n",
       "      <td>27470</td>\n",
       "      <td>4553287.23</td>\n",
       "      <td>172980</td>\n",
       "      <td>4581658.91</td>\n",
       "    </tr>\n",
       "    <tr>\n",
       "      <th>Portland</th>\n",
       "      <td>2823788673</td>\n",
       "      <td>13806</td>\n",
       "      <td>2264580.11</td>\n",
       "      <td>86429</td>\n",
       "      <td>2276649.24</td>\n",
       "    </tr>\n",
       "    <tr>\n",
       "      <th>San Francisco</th>\n",
       "      <td>10127798551</td>\n",
       "      <td>49363</td>\n",
       "      <td>8074045.54</td>\n",
       "      <td>310174</td>\n",
       "      <td>8124120.94</td>\n",
       "    </tr>\n",
       "    <tr>\n",
       "      <th>Seattle</th>\n",
       "      <td>3350585611</td>\n",
       "      <td>16281</td>\n",
       "      <td>2678871.35</td>\n",
       "      <td>103213</td>\n",
       "      <td>2693048.60</td>\n",
       "    </tr>\n",
       "  </tbody>\n",
       "</table>\n",
       "</div>"
      ],
      "text/plain": [
       "                   Order ID  Quantity Ordered  Price Each   Month  \\\n",
       "City                                                                \n",
       " Atlanta         3366679952             16304  2726247.35  103160   \n",
       " Austin          2238557673             10933  1777231.68   68570   \n",
       " Boston          4517043947             22123  3580075.00  138632   \n",
       " Dallas          3360280471             16453  2702619.12  102976   \n",
       " Los Angeles     6698824762             32722  5323915.79  204933   \n",
       " New York City   5643048641             27470  4553287.23  172980   \n",
       " Portland        2823788673             13806  2264580.11   86429   \n",
       " San Francisco  10127798551             49363  8074045.54  310174   \n",
       " Seattle         3350585611             16281  2678871.35  103213   \n",
       "\n",
       "                Total Amount  \n",
       "City                          \n",
       " Atlanta          2741642.05  \n",
       " Austin           1786745.52  \n",
       " Boston           3604080.86  \n",
       " Dallas           2717793.72  \n",
       " Los Angeles      5354039.93  \n",
       " New York City    4581658.91  \n",
       " Portland         2276649.24  \n",
       " San Francisco    8124120.94  \n",
       " Seattle          2693048.60  "
      ]
     },
     "execution_count": 9,
     "metadata": {},
     "output_type": "execute_result"
    }
   ],
   "source": [
    "# First solution\n",
    "# data[\"City\"] = data[\"Purchase Address\"].str.split(\",\",1, expand=True)[1].str.split(\",\",1, expand=True)[0]\n",
    "\n",
    "# But lambdas are more readable, and also allows us to access the cell content in an easer way\n",
    "data[\"City\"] = data[\"Purchase Address\"].apply(lambda entire_address: entire_address.split(',')[1])\n",
    "data.groupby(\"City\").sum()"
   ]
  },
  {
   "cell_type": "markdown",
   "id": "6e4c8497",
   "metadata": {},
   "source": [
    "Its San Francisco with 8124120.94"
   ]
  },
  {
   "cell_type": "code",
   "execution_count": 10,
   "id": "6fb6e77f",
   "metadata": {},
   "outputs": [
    {
     "data": {
      "image/png": "[encoded data removed]",
      "text/plain": [
       "<Figure size 432x288 with 1 Axes>"
      ]
     },
     "metadata": {
      "needs_background": "light"
     },
     "output_type": "display_data"
    }
   ],
   "source": [
    "# cities = data[\"City\"].unique() but they're not in the same order that our x so:\n",
    "cities = [city for city, group_data in data.groupby(\"City\")]\n",
    "results = data.groupby(\"City\").sum()\n",
    "plt.bar(cities,results[\"Total Amount\"])\n",
    "plt.xticks(cities,rotation=\"vertical\",size=12)\n",
    "plt.ylabel(\"Sales in $MM\")\n",
    "plt.xlabel(\"Cities\")\n",
    "plt.show()"
   ]
  },
  {
   "cell_type": "markdown",
   "id": "3ec3d0d8",
   "metadata": {},
   "source": [
    "### What time should we display advertisemens to maximize the likelihood of customer’s buying product?"
   ]
  },
  {
   "cell_type": "code",
   "execution_count": 11,
   "id": "93480817",
   "metadata": {},
   "outputs": [
    {
     "data": {
      "text/html": [
       "<div>\n",
       "<style scoped>\n",
       "    .dataframe tbody tr th:only-of-type {\n",
       "        vertical-align: middle;\n",
       "    }\n",
       "\n",
       "    .dataframe tbody tr th {\n",
       "        vertical-align: top;\n",
       "    }\n",
       "\n",
       "    .dataframe thead th {\n",
       "        text-align: right;\n",
       "    }\n",
       "</style>\n",
       "<table border=\"1\" class=\"dataframe\">\n",
       "  <thead>\n",
       "    <tr style=\"text-align: right;\">\n",
       "      <th></th>\n",
       "      <th>Order ID</th>\n",
       "      <th>Quantity Ordered</th>\n",
       "      <th>Price Each</th>\n",
       "      <th>Month</th>\n",
       "      <th>Total Amount</th>\n",
       "    </tr>\n",
       "    <tr>\n",
       "      <th>Hour</th>\n",
       "      <th></th>\n",
       "      <th></th>\n",
       "      <th></th>\n",
       "      <th></th>\n",
       "      <th></th>\n",
       "    </tr>\n",
       "  </thead>\n",
       "  <tbody>\n",
       "    <tr>\n",
       "      <th>0</th>\n",
       "      <td>886041145</td>\n",
       "      <td>4355</td>\n",
       "      <td>694313.78</td>\n",
       "      <td>27103</td>\n",
       "      <td>698694.76</td>\n",
       "    </tr>\n",
       "    <tr>\n",
       "      <th>1</th>\n",
       "      <td>534912819</td>\n",
       "      <td>2579</td>\n",
       "      <td>445316.87</td>\n",
       "      <td>16408</td>\n",
       "      <td>447663.86</td>\n",
       "    </tr>\n",
       "    <tr>\n",
       "      <th>2</th>\n",
       "      <td>278467863</td>\n",
       "      <td>1379</td>\n",
       "      <td>233191.25</td>\n",
       "      <td>8371</td>\n",
       "      <td>234191.08</td>\n",
       "    </tr>\n",
       "    <tr>\n",
       "      <th>3</th>\n",
       "      <td>189067807</td>\n",
       "      <td>912</td>\n",
       "      <td>141948.06</td>\n",
       "      <td>5816</td>\n",
       "      <td>142976.54</td>\n",
       "    </tr>\n",
       "    <tr>\n",
       "      <th>4</th>\n",
       "      <td>196834171</td>\n",
       "      <td>925</td>\n",
       "      <td>160759.69</td>\n",
       "      <td>6081</td>\n",
       "      <td>161350.57</td>\n",
       "    </tr>\n",
       "    <tr>\n",
       "      <th>5</th>\n",
       "      <td>298366603</td>\n",
       "      <td>1463</td>\n",
       "      <td>223261.09</td>\n",
       "      <td>9127</td>\n",
       "      <td>224313.72</td>\n",
       "    </tr>\n",
       "    <tr>\n",
       "      <th>6</th>\n",
       "      <td>563896980</td>\n",
       "      <td>2767</td>\n",
       "      <td>438446.96</td>\n",
       "      <td>17295</td>\n",
       "      <td>441523.14</td>\n",
       "    </tr>\n",
       "    <tr>\n",
       "      <th>7</th>\n",
       "      <td>917068874</td>\n",
       "      <td>4483</td>\n",
       "      <td>730350.33</td>\n",
       "      <td>28389</td>\n",
       "      <td>734595.75</td>\n",
       "    </tr>\n",
       "    <tr>\n",
       "      <th>8</th>\n",
       "      <td>1418526035</td>\n",
       "      <td>6917</td>\n",
       "      <td>1175057.60</td>\n",
       "      <td>43181</td>\n",
       "      <td>1181363.76</td>\n",
       "    </tr>\n",
       "    <tr>\n",
       "      <th>9</th>\n",
       "      <td>1967437689</td>\n",
       "      <td>9628</td>\n",
       "      <td>1602115.93</td>\n",
       "      <td>59907</td>\n",
       "      <td>1612498.90</td>\n",
       "    </tr>\n",
       "    <tr>\n",
       "      <th>10</th>\n",
       "      <td>2466916687</td>\n",
       "      <td>12058</td>\n",
       "      <td>1896115.54</td>\n",
       "      <td>75444</td>\n",
       "      <td>1907179.29</td>\n",
       "    </tr>\n",
       "    <tr>\n",
       "      <th>11</th>\n",
       "      <td>2813452868</td>\n",
       "      <td>13763</td>\n",
       "      <td>2255710.53</td>\n",
       "      <td>86258</td>\n",
       "      <td>2267169.73</td>\n",
       "    </tr>\n",
       "    <tr>\n",
       "      <th>12</th>\n",
       "      <td>2854625819</td>\n",
       "      <td>13946</td>\n",
       "      <td>2252856.08</td>\n",
       "      <td>87692</td>\n",
       "      <td>2269676.91</td>\n",
       "    </tr>\n",
       "    <tr>\n",
       "      <th>13</th>\n",
       "      <td>2748580718</td>\n",
       "      <td>13437</td>\n",
       "      <td>2102892.80</td>\n",
       "      <td>84360</td>\n",
       "      <td>2118394.83</td>\n",
       "    </tr>\n",
       "    <tr>\n",
       "      <th>14</th>\n",
       "      <td>2495371130</td>\n",
       "      <td>12163</td>\n",
       "      <td>2033782.14</td>\n",
       "      <td>76668</td>\n",
       "      <td>2045085.42</td>\n",
       "    </tr>\n",
       "    <tr>\n",
       "      <th>15</th>\n",
       "      <td>2304099947</td>\n",
       "      <td>11175</td>\n",
       "      <td>1889896.11</td>\n",
       "      <td>70698</td>\n",
       "      <td>1900151.56</td>\n",
       "    </tr>\n",
       "    <tr>\n",
       "      <th>16</th>\n",
       "      <td>2340402151</td>\n",
       "      <td>11420</td>\n",
       "      <td>1852664.16</td>\n",
       "      <td>71523</td>\n",
       "      <td>1864530.92</td>\n",
       "    </tr>\n",
       "    <tr>\n",
       "      <th>17</th>\n",
       "      <td>2473930476</td>\n",
       "      <td>12016</td>\n",
       "      <td>2073586.46</td>\n",
       "      <td>76115</td>\n",
       "      <td>2086082.23</td>\n",
       "    </tr>\n",
       "    <tr>\n",
       "      <th>18</th>\n",
       "      <td>2780186964</td>\n",
       "      <td>13576</td>\n",
       "      <td>2164692.79</td>\n",
       "      <td>85058</td>\n",
       "      <td>2176209.65</td>\n",
       "    </tr>\n",
       "    <tr>\n",
       "      <th>19</th>\n",
       "      <td>2928761805</td>\n",
       "      <td>14228</td>\n",
       "      <td>2356053.97</td>\n",
       "      <td>89940</td>\n",
       "      <td>2370005.59</td>\n",
       "    </tr>\n",
       "    <tr>\n",
       "      <th>20</th>\n",
       "      <td>2775306777</td>\n",
       "      <td>13565</td>\n",
       "      <td>2230045.17</td>\n",
       "      <td>85114</td>\n",
       "      <td>2242856.37</td>\n",
       "    </tr>\n",
       "    <tr>\n",
       "      <th>21</th>\n",
       "      <td>2475049188</td>\n",
       "      <td>12030</td>\n",
       "      <td>2002164.54</td>\n",
       "      <td>75823</td>\n",
       "      <td>2013288.02</td>\n",
       "    </tr>\n",
       "    <tr>\n",
       "      <th>22</th>\n",
       "      <td>1995219362</td>\n",
       "      <td>9715</td>\n",
       "      <td>1570465.70</td>\n",
       "      <td>61047</td>\n",
       "      <td>1578173.21</td>\n",
       "    </tr>\n",
       "    <tr>\n",
       "      <th>23</th>\n",
       "      <td>1424084403</td>\n",
       "      <td>6955</td>\n",
       "      <td>1155185.62</td>\n",
       "      <td>43649</td>\n",
       "      <td>1161803.96</td>\n",
       "    </tr>\n",
       "  </tbody>\n",
       "</table>\n",
       "</div>"
      ],
      "text/plain": [
       "        Order ID  Quantity Ordered  Price Each  Month  Total Amount\n",
       "Hour                                                               \n",
       "0      886041145              4355   694313.78  27103     698694.76\n",
       "1      534912819              2579   445316.87  16408     447663.86\n",
       "2      278467863              1379   233191.25   8371     234191.08\n",
       "3      189067807               912   141948.06   5816     142976.54\n",
       "4      196834171               925   160759.69   6081     161350.57\n",
       "5      298366603              1463   223261.09   9127     224313.72\n",
       "6      563896980              2767   438446.96  17295     441523.14\n",
       "7      917068874              4483   730350.33  28389     734595.75\n",
       "8     1418526035              6917  1175057.60  43181    1181363.76\n",
       "9     1967437689              9628  1602115.93  59907    1612498.90\n",
       "10    2466916687             12058  1896115.54  75444    1907179.29\n",
       "11    2813452868             13763  2255710.53  86258    2267169.73\n",
       "12    2854625819             13946  2252856.08  87692    2269676.91\n",
       "13    2748580718             13437  2102892.80  84360    2118394.83\n",
       "14    2495371130             12163  2033782.14  76668    2045085.42\n",
       "15    2304099947             11175  1889896.11  70698    1900151.56\n",
       "16    2340402151             11420  1852664.16  71523    1864530.92\n",
       "17    2473930476             12016  2073586.46  76115    2086082.23\n",
       "18    2780186964             13576  2164692.79  85058    2176209.65\n",
       "19    2928761805             14228  2356053.97  89940    2370005.59\n",
       "20    2775306777             13565  2230045.17  85114    2242856.37\n",
       "21    2475049188             12030  2002164.54  75823    2013288.02\n",
       "22    1995219362              9715  1570465.70  61047    1578173.21\n",
       "23    1424084403              6955  1155185.62  43649    1161803.96"
      ]
     },
     "execution_count": 11,
     "metadata": {},
     "output_type": "execute_result"
    }
   ],
   "source": [
    "# maybe a frequency histogram showing count of sales in different time ranges \n",
    "data['Hour'] = data['DateTime'].dt.hour\n",
    "data['Hour'] = pd.to_numeric(data['Hour'])\n",
    "hours = [hour for hour, group_data in data.groupby(\"Hour\")]\n",
    "data.groupby(\"Hour\").sum()"
   ]
  },
  {
   "cell_type": "code",
   "execution_count": 12,
   "id": "8f48e77a",
   "metadata": {},
   "outputs": [
    {
     "data": {
      "image/png": "[encoded data removed]",
      "text/plain": [
       "<Figure size 432x288 with 1 Axes>"
      ]
     },
     "metadata": {
      "needs_background": "light"
     },
     "output_type": "display_data"
    }
   ],
   "source": [
    "# bar chart of total amount values per hour\n",
    "results = data.groupby(\"Hour\").sum()\n",
    "plt.bar(hours,results[\"Total Amount\"],width=0.6)\n",
    "plt.xticks(hours,size=10)\n",
    "plt.ylabel(\"Sales in $MM\")\n",
    "plt.xlabel(\"Hours\")\n",
    "plt.show()"
   ]
  },
  {
   "cell_type": "code",
   "execution_count": 13,
   "id": "84950f06",
   "metadata": {},
   "outputs": [
    {
     "data": {
      "text/plain": [
       "<function matplotlib.pyplot.show(close=None, block=None)>"
      ]
     },
     "execution_count": 13,
     "metadata": {},
     "output_type": "execute_result"
    },
    {
     "data": {
      "image/png": "[encoded data removed]",
      "text/plain": [
       "<Figure size 432x288 with 1 Axes>"
      ]
     },
     "metadata": {
      "needs_background": "light"
     },
     "output_type": "display_data"
    }
   ],
   "source": [
    "# line chart of count of data for every specific hour\n",
    "plt.plot(hours,data.groupby(\"Hour\").count())\n",
    "plt.xticks(hours,size=10)\n",
    "plt.ylabel(\"Count of Orders\")\n",
    "plt.xlabel(\"Hours\")\n",
    "plt.grid()\n",
    "plt.show"
   ]
  },
  {
   "cell_type": "markdown",
   "id": "6119d4d5",
   "metadata": {},
   "source": [
    "We would recommend to display advertisings right after 11:00 or at 19:00, showing the chart to the client"
   ]
  },
  {
   "cell_type": "markdown",
   "id": "ca221133",
   "metadata": {},
   "source": [
    "### What products are most often sold together?"
   ]
  },
  {
   "cell_type": "code",
   "execution_count": 14,
   "id": "a925edd6",
   "metadata": {},
   "outputs": [
    {
     "data": {
      "text/plain": [
       "[(('iPhone', 'Lightning Charging Cable'), 860),\n",
       " (('Google Phone', 'USB-C Charging Cable'), 828),\n",
       " (('iPhone', 'Wired Headphones'), 355),\n",
       " (('Vareebadd Phone', 'USB-C Charging Cable'), 301),\n",
       " (('Google Phone', 'Wired Headphones'), 295),\n",
       " (('iPhone', 'Apple Airpods Headphones'), 274),\n",
       " (('Google Phone', 'Bose SoundSport Headphones'), 160),\n",
       " (('Vareebadd Phone', 'Wired Headphones'), 104),\n",
       " (('Google Phone', 'USB-C Charging Cable', 'Wired Headphones'), 74),\n",
       " (('Vareebadd Phone', 'Bose SoundSport Headphones'), 56)]"
      ]
     },
     "execution_count": 14,
     "metadata": {},
     "output_type": "execute_result"
    }
   ],
   "source": [
    "# first (UGLY) solution, with my current knowledge\n",
    "# need to get products with the exact same datetime and address\n",
    "buyed_together = data.duplicated(['Purchase Address','DateTime'],keep=False)\n",
    "buyed_together_data = data[buyed_together == True]\n",
    "\n",
    "grouped_data = buyed_together_data.groupby(['Purchase Address','DateTime'])\n",
    "tuples = [tpl for tpl, data in grouped_data]\n",
    "\n",
    "buys = []\n",
    "for tpl in tuples:\n",
    "    content = grouped_data.get_group(tpl)\n",
    "    product_list = content['Product']\n",
    "    buys.append(product_list)\n",
    "\n",
    "tuples = []\n",
    "for buy in buys:\n",
    "    lst = []\n",
    "    for product in buy:\n",
    "        lst.append(product)\n",
    "    tpl = tuple(lst)\n",
    "    tuples.append(tpl)\n",
    "\n",
    "unique_tuples = set(tuples)\n",
    "\n",
    "tuples_and_counts = []\n",
    "\n",
    "for tpl in unique_tuples:\n",
    "    count = tuples.count(tpl)\n",
    "    tuple_and_count = (tpl,count)\n",
    "    tuples_and_counts.append(tuple_and_count)\n",
    "\n",
    "tuples_and_counts.sort(key = lambda x: x[1])\n",
    "tuples_and_counts.reverse()\n",
    "top_ten_tuples_and_counts = tuples_and_counts[:10]\n",
    "top_ten_tuples_and_counts"
   ]
  },
  {
   "cell_type": "code",
   "execution_count": 15,
   "id": "792a43cb",
   "metadata": {},
   "outputs": [
    {
     "name": "stderr",
     "output_type": "stream",
     "text": [
      "/tmp/ipykernel_5758/2559451303.py:3: SettingWithCopyWarning: \n",
      "A value is trying to be set on a copy of a slice from a DataFrame.\n",
      "Try using .loc[row_indexer,col_indexer] = value instead\n",
      "\n",
      "See the caveats in the documentation: https://pandas.pydata.org/pandas-docs/stable/user_guide/indexing.html#returning-a-view-versus-a-copy\n",
      "  df['Grouped'] = df.groupby('Order ID')['Product'].transform(lambda x: \",\".join(x))\n"
     ]
    },
    {
     "data": {
      "text/html": [
       "<div>\n",
       "<style scoped>\n",
       "    .dataframe tbody tr th:only-of-type {\n",
       "        vertical-align: middle;\n",
       "    }\n",
       "\n",
       "    .dataframe tbody tr th {\n",
       "        vertical-align: top;\n",
       "    }\n",
       "\n",
       "    .dataframe thead th {\n",
       "        text-align: right;\n",
       "    }\n",
       "</style>\n",
       "<table border=\"1\" class=\"dataframe\">\n",
       "  <thead>\n",
       "    <tr style=\"text-align: right;\">\n",
       "      <th></th>\n",
       "      <th>Order ID</th>\n",
       "      <th>Grouped</th>\n",
       "    </tr>\n",
       "  </thead>\n",
       "  <tbody>\n",
       "    <tr>\n",
       "      <th>3</th>\n",
       "      <td>176560</td>\n",
       "      <td>Google Phone,Wired Headphones</td>\n",
       "    </tr>\n",
       "    <tr>\n",
       "      <th>18</th>\n",
       "      <td>176574</td>\n",
       "      <td>Google Phone,USB-C Charging Cable</td>\n",
       "    </tr>\n",
       "    <tr>\n",
       "      <th>30</th>\n",
       "      <td>176585</td>\n",
       "      <td>Bose SoundSport Headphones,Bose SoundSport Hea...</td>\n",
       "    </tr>\n",
       "    <tr>\n",
       "      <th>32</th>\n",
       "      <td>176586</td>\n",
       "      <td>AAA Batteries (4-pack),Google Phone</td>\n",
       "    </tr>\n",
       "    <tr>\n",
       "      <th>119</th>\n",
       "      <td>176672</td>\n",
       "      <td>Lightning Charging Cable,USB-C Charging Cable</td>\n",
       "    </tr>\n",
       "  </tbody>\n",
       "</table>\n",
       "</div>"
      ],
      "text/plain": [
       "     Order ID                                            Grouped\n",
       "3      176560                      Google Phone,Wired Headphones\n",
       "18     176574                  Google Phone,USB-C Charging Cable\n",
       "30     176585  Bose SoundSport Headphones,Bose SoundSport Hea...\n",
       "32     176586                AAA Batteries (4-pack),Google Phone\n",
       "119    176672      Lightning Charging Cable,USB-C Charging Cable"
      ]
     },
     "execution_count": 15,
     "metadata": {},
     "output_type": "execute_result"
    }
   ],
   "source": [
    "# didn't realize that products that were order together had the same order id :( \n",
    "df = data[data['Order ID'].duplicated(keep=False)]\n",
    "df['Grouped'] = df.groupby('Order ID')['Product'].transform(lambda x: \",\".join(x))\n",
    "df = df[['Order ID','Grouped']].drop_duplicates()\n",
    "df.head()"
   ]
  },
  {
   "cell_type": "code",
   "execution_count": 16,
   "id": "44b71f6b",
   "metadata": {},
   "outputs": [
    {
     "data": {
      "text/plain": [
       "[(('iPhone', 'Lightning Charging Cable'), 973),\n",
       " (('Google Phone', 'USB-C Charging Cable'), 954),\n",
       " (('iPhone', 'Wired Headphones'), 437),\n",
       " (('Google Phone', 'Wired Headphones'), 401),\n",
       " (('Vareebadd Phone', 'USB-C Charging Cable'), 348),\n",
       " (('iPhone', 'Apple Airpods Headphones'), 343),\n",
       " (('Google Phone', 'Bose SoundSport Headphones'), 219),\n",
       " (('USB-C Charging Cable', 'Wired Headphones'), 156),\n",
       " (('Vareebadd Phone', 'Wired Headphones'), 141),\n",
       " (('Lightning Charging Cable', 'Wired Headphones'), 92)]"
      ]
     },
     "execution_count": 16,
     "metadata": {},
     "output_type": "execute_result"
    }
   ],
   "source": [
    "from itertools import combinations\n",
    "from collections import Counter\n",
    "\n",
    "# this solution only shows grouped by a single value (by 2, by 3, etc)\n",
    "sold_together_by = 2\n",
    "\n",
    "count = Counter()\n",
    "for row in df['Grouped']:\n",
    "    row_list = row.split(',')\n",
    "    count.update(Counter(combinations(row_list,sold_together_by)))\n",
    "\n",
    "count.most_common(10)"
   ]
  },
  {
   "cell_type": "markdown",
   "id": "b0613d79",
   "metadata": {},
   "source": [
    "### What product sold the most? Why do you think it sold the most?"
   ]
  },
  {
   "cell_type": "code",
   "execution_count": 17,
   "id": "376458df",
   "metadata": {},
   "outputs": [
    {
     "data": {
      "text/plain": [
       "[('AAA Batteries (4-pack)', 30487),\n",
       " ('AA Batteries (4-pack)', 27148),\n",
       " ('USB-C Charging Cable', 23555),\n",
       " ('Lightning Charging Cable', 22841),\n",
       " ('Wired Headphones', 20201),\n",
       " ('Apple Airpods Headphones', 15383),\n",
       " ('Bose SoundSport Headphones', 13236),\n",
       " ('27in FHD Monitor', 7429),\n",
       " ('iPhone', 6732),\n",
       " ('27in 4K Gaming Monitor', 6134),\n",
       " ('34in Ultrawide Monitor', 6076),\n",
       " ('Google Phone', 5440),\n",
       " ('Flatscreen TV', 4724),\n",
       " ('Macbook Pro Laptop', 4645),\n",
       " ('20in Monitor', 4058),\n",
       " ('ThinkPad Laptop', 4054),\n",
       " ('Vareebadd Phone', 2023),\n",
       " ('LG Washing Machine', 649),\n",
       " ('LG Dryer', 640)]"
      ]
     },
     "execution_count": 17,
     "metadata": {},
     "output_type": "execute_result"
    }
   ],
   "source": [
    "# First (UGLY) solution with my actual knowledge\n",
    "# product list\n",
    "products = [product for product in data['Product'].unique()]\n",
    "# dict key = product, value = counter\n",
    "product_counter = dict()\n",
    "for product in products:\n",
    "    product_counter[product] = 0\n",
    "\n",
    "df = data[['Product','Quantity Ordered']]\n",
    "\n",
    "for index, row in df.iterrows():\n",
    "    product_counter[row['Product']] += row['Quantity Ordered']\n",
    "\n",
    "tuples = []\n",
    "for item, quantity in product_counter.items():\n",
    "    tpl = (item,quantity)\n",
    "    tuples.append(tpl)\n",
    "\n",
    "tuples.sort(key = lambda x: x[1])\n",
    "tuples.reverse()\n",
    "tuples"
   ]
  },
  {
   "cell_type": "code",
   "execution_count": 18,
   "id": "cf425b23",
   "metadata": {},
   "outputs": [
    {
     "data": {
      "image/png": "[encoded data removed]",
      "text/plain": [
       "<Figure size 432x288 with 1 Axes>"
      ]
     },
     "metadata": {
      "needs_background": "light"
     },
     "output_type": "display_data"
    }
   ],
   "source": [
    "product_group = data.groupby(\"Product\")\n",
    "quantity_ordered = product_group.sum()['Quantity Ordered']\n",
    "products = [product for product, data in product_group]\n",
    "\n",
    "plt.bar(products,quantity_ordered)\n",
    "plt.ylabel(\"Quantity\")\n",
    "plt.xlabel(\"Product\")\n",
    "plt.xticks(products,rotation='vertical',size=9)\n",
    "plt.show()"
   ]
  },
  {
   "cell_type": "code",
   "execution_count": 22,
   "id": "73f95637",
   "metadata": {},
   "outputs": [
    {
     "name": "stderr",
     "output_type": "stream",
     "text": [
      "/tmp/ipykernel_5758/123746086.py:12: UserWarning: FixedFormatter should only be used together with FixedLocator\n",
      "  ax1.set_xticklabels(products, rotation=\"vertical\", size=8)\n"
     ]
    },
    {
     "data": {
      "image/png": "[encoded data removed]",
      "text/plain": [
       "<Figure size 432x288 with 2 Axes>"
      ]
     },
     "metadata": {
      "needs_background": "light"
     },
     "output_type": "display_data"
    }
   ],
   "source": [
    "prices = data.groupby(\"Product\").mean()['Price Each']\n",
    "\n",
    "fig, ax1 = plt.subplots()\n",
    "ax2 = ax1.twinx()\n",
    "ax1.bar(products, quantity_ordered, color=\"g\")\n",
    "ax2.plot(products, prices, 'b-')\n",
    "\n",
    "ax1.set_xlabel(\"Product Name\")\n",
    "ax1.set_ylabel(\"Quantity Ordered\", color=\"g\")\n",
    "ax2.set_ylabel(\"Price ($)\", color=\"b\")\n",
    "\n",
    "ax1.set_xticklabels(products, rotation=\"vertical\", size=8)\n",
    "\n",
    "plt.show()"
   ]
  },
  {
   "cell_type": "code",
   "execution_count": null,
   "id": "f1fb9e60",
   "metadata": {},
   "outputs": [],
   "source": []
  },
  {
   "cell_type": "code",
   "execution_count": null,
   "id": "12ebba21",
   "metadata": {},
   "outputs": [],
   "source": []
  },
  {
   "cell_type": "code",
   "execution_count": null,
   "id": "2addb889",
   "metadata": {},
   "outputs": [],
   "source": []
  }
 ],
 "metadata": {
  "kernelspec": {
   "display_name": "Python 3 (ipykernel)",
   "language": "python",
   "name": "python3"
  },
  "language_info": {
   "codemirror_mode": {
    "name": "ipython",
    "version": 3
   },
   "file_extension": ".py",
   "mimetype": "text/x-python",
   "name": "python",
   "nbconvert_exporter": "python",
   "pygments_lexer": "ipython3",
   "version": "3.8.10"
  }
 },
 "nbformat": 4,
 "nbformat_minor": 5
}
