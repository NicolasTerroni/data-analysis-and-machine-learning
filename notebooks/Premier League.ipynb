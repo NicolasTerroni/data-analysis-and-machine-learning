{
 "cells": [
  {
   "cell_type": "code",
   "execution_count": 1,
   "id": "468a7596",
   "metadata": {},
   "outputs": [],
   "source": [
    "import pandas as pd\n",
    "import numpy as np \n",
    "import matplotlib.pyplot as plt"
   ]
  },
  {
   "cell_type": "markdown",
   "id": "1dd6958f",
   "metadata": {},
   "source": [
    "# English Premier League 2020/2021 player stats"
   ]
  },
  {
   "cell_type": "code",
   "execution_count": 2,
   "id": "ec57d36e",
   "metadata": {},
   "outputs": [],
   "source": [
    "mainpath = \"/home/nicolasterroni/projects/cursos/data-analysis-and-machine-learning/datasets/Premier_League/\"\n",
    "data = pd.read_csv(mainpath+\"EPL_20_21.csv\")"
   ]
  },
  {
   "cell_type": "code",
   "execution_count": 3,
   "id": "96ce6d04",
   "metadata": {},
   "outputs": [
    {
     "data": {
      "text/plain": [
       "Name                            object\n",
       "Club                            object\n",
       "Nationality                     object\n",
       "Position                        object\n",
       "Age                              int64\n",
       "Matches                          int64\n",
       "Starts                           int64\n",
       "Mins                             int64\n",
       "Goals                            int64\n",
       "Assists                          int64\n",
       "Passes_Attempted                 int64\n",
       "Perc_Passes_Completed          float64\n",
       "Penalty_Goals                    int64\n",
       "Penalty_Attempted                int64\n",
       "xG                             float64\n",
       "xA                             float64\n",
       "Yellow_Cards                     int64\n",
       "Red_Cards                        int64\n",
       "Passes_Completed                 int64\n",
       "Passes_Completed_Per_Minute    float64\n",
       "Passes_Attempted_Per_Minute    float64\n",
       "dtype: object"
      ]
     },
     "execution_count": 3,
     "metadata": {},
     "output_type": "execute_result"
    }
   ],
   "source": [
    "data['Passes_Completed'] = data['Passes_Attempted'] * data['Perc_Passes_Completed']/100\n",
    "data['Passes_Completed'] = data['Passes_Completed'].astype(int)\n",
    "\n",
    "data['Passes_Completed_Per_Minute'] = round(data['Passes_Completed'] / data[\"Mins\"],2)\n",
    "data['Passes_Completed_Per_Minute'] = data['Passes_Completed_Per_Minute'].astype(float)\n",
    "\n",
    "data['Passes_Attempted_Per_Minute'] = round(data['Passes_Attempted'] / data[\"Mins\"],2)\n",
    "data['Passes_Attempted_Per_Minute'] = data['Passes_Attempted_Per_Minute'].astype(float)\n",
    "\n",
    "columns = data.columns.values.tolist()\n",
    "\n",
    "# Get all teams\n",
    "clubs = [club for club, group_data in data.groupby(\"Club\")]\n",
    "\n",
    "positions = []\n",
    "for index, row in data.iterrows():\n",
    "    try:\n",
    "        position_list = row[\"Position\"].split(\",\")\n",
    "    except:\n",
    "        position_list = [row,]\n",
    "    for position in position_list:\n",
    "        positions.append(position)\n",
    "positions = list(set(positions))\n",
    "\n",
    "data.dtypes"
   ]
  },
  {
   "cell_type": "code",
   "execution_count": 4,
   "id": "f7f3ab98",
   "metadata": {},
   "outputs": [
    {
     "data": {
      "text/plain": [
       "(532, 21)"
      ]
     },
     "execution_count": 4,
     "metadata": {},
     "output_type": "execute_result"
    }
   ],
   "source": [
    "data.shape"
   ]
  },
  {
   "cell_type": "code",
   "execution_count": 5,
   "id": "3a1a727e",
   "metadata": {},
   "outputs": [
    {
     "data": {
      "text/html": [
       "<div>\n",
       "<style scoped>\n",
       "    .dataframe tbody tr th:only-of-type {\n",
       "        vertical-align: middle;\n",
       "    }\n",
       "\n",
       "    .dataframe tbody tr th {\n",
       "        vertical-align: top;\n",
       "    }\n",
       "\n",
       "    .dataframe thead th {\n",
       "        text-align: right;\n",
       "    }\n",
       "</style>\n",
       "<table border=\"1\" class=\"dataframe\">\n",
       "  <thead>\n",
       "    <tr style=\"text-align: right;\">\n",
       "      <th></th>\n",
       "      <th>Age</th>\n",
       "      <th>Matches</th>\n",
       "      <th>Starts</th>\n",
       "      <th>Mins</th>\n",
       "      <th>Goals</th>\n",
       "      <th>Assists</th>\n",
       "      <th>Passes_Attempted</th>\n",
       "      <th>Perc_Passes_Completed</th>\n",
       "      <th>Penalty_Goals</th>\n",
       "      <th>Penalty_Attempted</th>\n",
       "      <th>xG</th>\n",
       "      <th>xA</th>\n",
       "      <th>Yellow_Cards</th>\n",
       "      <th>Red_Cards</th>\n",
       "      <th>Passes_Completed</th>\n",
       "      <th>Passes_Completed_Per_Minute</th>\n",
       "      <th>Passes_Attempted_Per_Minute</th>\n",
       "    </tr>\n",
       "  </thead>\n",
       "  <tbody>\n",
       "    <tr>\n",
       "      <th>count</th>\n",
       "      <td>532.000000</td>\n",
       "      <td>532.000000</td>\n",
       "      <td>532.000000</td>\n",
       "      <td>532.000000</td>\n",
       "      <td>532.000000</td>\n",
       "      <td>532.000000</td>\n",
       "      <td>532.000000</td>\n",
       "      <td>532.000000</td>\n",
       "      <td>532.000000</td>\n",
       "      <td>532.000000</td>\n",
       "      <td>532.000000</td>\n",
       "      <td>532.000000</td>\n",
       "      <td>532.000000</td>\n",
       "      <td>532.000000</td>\n",
       "      <td>532.000000</td>\n",
       "      <td>532.000000</td>\n",
       "      <td>532.000000</td>\n",
       "    </tr>\n",
       "    <tr>\n",
       "      <th>mean</th>\n",
       "      <td>25.500000</td>\n",
       "      <td>19.535714</td>\n",
       "      <td>15.714286</td>\n",
       "      <td>1411.443609</td>\n",
       "      <td>1.853383</td>\n",
       "      <td>1.287594</td>\n",
       "      <td>717.750000</td>\n",
       "      <td>77.823872</td>\n",
       "      <td>0.191729</td>\n",
       "      <td>0.234962</td>\n",
       "      <td>0.113289</td>\n",
       "      <td>0.072650</td>\n",
       "      <td>2.114662</td>\n",
       "      <td>0.090226</td>\n",
       "      <td>576.815789</td>\n",
       "      <td>0.396786</td>\n",
       "      <td>0.503402</td>\n",
       "    </tr>\n",
       "    <tr>\n",
       "      <th>std</th>\n",
       "      <td>4.319404</td>\n",
       "      <td>11.840459</td>\n",
       "      <td>11.921161</td>\n",
       "      <td>1043.171856</td>\n",
       "      <td>3.338009</td>\n",
       "      <td>2.095191</td>\n",
       "      <td>631.372522</td>\n",
       "      <td>13.011631</td>\n",
       "      <td>0.850881</td>\n",
       "      <td>0.975818</td>\n",
       "      <td>0.148174</td>\n",
       "      <td>0.090072</td>\n",
       "      <td>2.269094</td>\n",
       "      <td>0.293268</td>\n",
       "      <td>530.031279</td>\n",
       "      <td>0.208027</td>\n",
       "      <td>0.264234</td>\n",
       "    </tr>\n",
       "    <tr>\n",
       "      <th>min</th>\n",
       "      <td>16.000000</td>\n",
       "      <td>1.000000</td>\n",
       "      <td>0.000000</td>\n",
       "      <td>1.000000</td>\n",
       "      <td>0.000000</td>\n",
       "      <td>0.000000</td>\n",
       "      <td>0.000000</td>\n",
       "      <td>-1.000000</td>\n",
       "      <td>0.000000</td>\n",
       "      <td>0.000000</td>\n",
       "      <td>0.000000</td>\n",
       "      <td>0.000000</td>\n",
       "      <td>0.000000</td>\n",
       "      <td>0.000000</td>\n",
       "      <td>0.000000</td>\n",
       "      <td>0.000000</td>\n",
       "      <td>0.000000</td>\n",
       "    </tr>\n",
       "    <tr>\n",
       "      <th>25%</th>\n",
       "      <td>22.000000</td>\n",
       "      <td>9.000000</td>\n",
       "      <td>4.000000</td>\n",
       "      <td>426.000000</td>\n",
       "      <td>0.000000</td>\n",
       "      <td>0.000000</td>\n",
       "      <td>171.500000</td>\n",
       "      <td>73.500000</td>\n",
       "      <td>0.000000</td>\n",
       "      <td>0.000000</td>\n",
       "      <td>0.010000</td>\n",
       "      <td>0.000000</td>\n",
       "      <td>0.000000</td>\n",
       "      <td>0.000000</td>\n",
       "      <td>140.250000</td>\n",
       "      <td>0.250000</td>\n",
       "      <td>0.340000</td>\n",
       "    </tr>\n",
       "    <tr>\n",
       "      <th>50%</th>\n",
       "      <td>26.000000</td>\n",
       "      <td>21.000000</td>\n",
       "      <td>15.000000</td>\n",
       "      <td>1345.000000</td>\n",
       "      <td>1.000000</td>\n",
       "      <td>0.000000</td>\n",
       "      <td>573.500000</td>\n",
       "      <td>79.200000</td>\n",
       "      <td>0.000000</td>\n",
       "      <td>0.000000</td>\n",
       "      <td>0.060000</td>\n",
       "      <td>0.050000</td>\n",
       "      <td>2.000000</td>\n",
       "      <td>0.000000</td>\n",
       "      <td>442.500000</td>\n",
       "      <td>0.350000</td>\n",
       "      <td>0.450000</td>\n",
       "    </tr>\n",
       "    <tr>\n",
       "      <th>75%</th>\n",
       "      <td>29.000000</td>\n",
       "      <td>30.000000</td>\n",
       "      <td>27.000000</td>\n",
       "      <td>2303.500000</td>\n",
       "      <td>2.000000</td>\n",
       "      <td>2.000000</td>\n",
       "      <td>1129.500000</td>\n",
       "      <td>84.625000</td>\n",
       "      <td>0.000000</td>\n",
       "      <td>0.000000</td>\n",
       "      <td>0.150000</td>\n",
       "      <td>0.110000</td>\n",
       "      <td>3.000000</td>\n",
       "      <td>0.000000</td>\n",
       "      <td>889.250000</td>\n",
       "      <td>0.520000</td>\n",
       "      <td>0.630000</td>\n",
       "    </tr>\n",
       "    <tr>\n",
       "      <th>max</th>\n",
       "      <td>38.000000</td>\n",
       "      <td>38.000000</td>\n",
       "      <td>38.000000</td>\n",
       "      <td>3420.000000</td>\n",
       "      <td>23.000000</td>\n",
       "      <td>14.000000</td>\n",
       "      <td>3214.000000</td>\n",
       "      <td>100.000000</td>\n",
       "      <td>9.000000</td>\n",
       "      <td>10.000000</td>\n",
       "      <td>1.160000</td>\n",
       "      <td>0.900000</td>\n",
       "      <td>12.000000</td>\n",
       "      <td>2.000000</td>\n",
       "      <td>2567.000000</td>\n",
       "      <td>2.000000</td>\n",
       "      <td>4.000000</td>\n",
       "    </tr>\n",
       "  </tbody>\n",
       "</table>\n",
       "</div>"
      ],
      "text/plain": [
       "              Age     Matches      Starts         Mins       Goals  \\\n",
       "count  532.000000  532.000000  532.000000   532.000000  532.000000   \n",
       "mean    25.500000   19.535714   15.714286  1411.443609    1.853383   \n",
       "std      4.319404   11.840459   11.921161  1043.171856    3.338009   \n",
       "min     16.000000    1.000000    0.000000     1.000000    0.000000   \n",
       "25%     22.000000    9.000000    4.000000   426.000000    0.000000   \n",
       "50%     26.000000   21.000000   15.000000  1345.000000    1.000000   \n",
       "75%     29.000000   30.000000   27.000000  2303.500000    2.000000   \n",
       "max     38.000000   38.000000   38.000000  3420.000000   23.000000   \n",
       "\n",
       "          Assists  Passes_Attempted  Perc_Passes_Completed  Penalty_Goals  \\\n",
       "count  532.000000        532.000000             532.000000     532.000000   \n",
       "mean     1.287594        717.750000              77.823872       0.191729   \n",
       "std      2.095191        631.372522              13.011631       0.850881   \n",
       "min      0.000000          0.000000              -1.000000       0.000000   \n",
       "25%      0.000000        171.500000              73.500000       0.000000   \n",
       "50%      0.000000        573.500000              79.200000       0.000000   \n",
       "75%      2.000000       1129.500000              84.625000       0.000000   \n",
       "max     14.000000       3214.000000             100.000000       9.000000   \n",
       "\n",
       "       Penalty_Attempted          xG          xA  Yellow_Cards   Red_Cards  \\\n",
       "count         532.000000  532.000000  532.000000    532.000000  532.000000   \n",
       "mean            0.234962    0.113289    0.072650      2.114662    0.090226   \n",
       "std             0.975818    0.148174    0.090072      2.269094    0.293268   \n",
       "min             0.000000    0.000000    0.000000      0.000000    0.000000   \n",
       "25%             0.000000    0.010000    0.000000      0.000000    0.000000   \n",
       "50%             0.000000    0.060000    0.050000      2.000000    0.000000   \n",
       "75%             0.000000    0.150000    0.110000      3.000000    0.000000   \n",
       "max            10.000000    1.160000    0.900000     12.000000    2.000000   \n",
       "\n",
       "       Passes_Completed  Passes_Completed_Per_Minute  \\\n",
       "count        532.000000                   532.000000   \n",
       "mean         576.815789                     0.396786   \n",
       "std          530.031279                     0.208027   \n",
       "min            0.000000                     0.000000   \n",
       "25%          140.250000                     0.250000   \n",
       "50%          442.500000                     0.350000   \n",
       "75%          889.250000                     0.520000   \n",
       "max         2567.000000                     2.000000   \n",
       "\n",
       "       Passes_Attempted_Per_Minute  \n",
       "count                   532.000000  \n",
       "mean                      0.503402  \n",
       "std                       0.264234  \n",
       "min                       0.000000  \n",
       "25%                       0.340000  \n",
       "50%                       0.450000  \n",
       "75%                       0.630000  \n",
       "max                       4.000000  "
      ]
     },
     "execution_count": 5,
     "metadata": {},
     "output_type": "execute_result"
    }
   ],
   "source": [
    "data.describe()"
   ]
  },
  {
   "cell_type": "code",
   "execution_count": 6,
   "id": "e66a344c",
   "metadata": {},
   "outputs": [
    {
     "data": {
      "text/plain": [
       "['Arsenal',\n",
       " 'Aston Villa',\n",
       " 'Brighton',\n",
       " 'Burnley',\n",
       " 'Chelsea',\n",
       " 'Crystal Palace',\n",
       " 'Everton',\n",
       " 'Fulham',\n",
       " 'Leeds United',\n",
       " 'Leicester City',\n",
       " 'Liverpool FC',\n",
       " 'Manchester City',\n",
       " 'Manchester United',\n",
       " 'Newcastle United',\n",
       " 'Sheffield United',\n",
       " 'Southampton',\n",
       " 'Tottenham Hotspur',\n",
       " 'West Bromwich Albion',\n",
       " 'West Ham United',\n",
       " 'Wolverhampton Wanderers']"
      ]
     },
     "execution_count": 6,
     "metadata": {},
     "output_type": "execute_result"
    }
   ],
   "source": [
    "clubs"
   ]
  },
  {
   "cell_type": "markdown",
   "id": "f3ae58de",
   "metadata": {},
   "source": [
    "### Bar charts for the average of completed passes for MFs, goals for FWs, and less completed pasess and red cars for DFs of each team "
   ]
  },
  {
   "cell_type": "markdown",
   "id": "f6c11938",
   "metadata": {},
   "source": [
    "##### MF's Averages for each club"
   ]
  },
  {
   "cell_type": "code",
   "execution_count": 36,
   "id": "3e98b491",
   "metadata": {},
   "outputs": [
    {
     "data": {
      "image/png": "[encoded data removed]",
      "text/plain": [
       "<Figure size 432x288 with 1 Axes>"
      ]
     },
     "metadata": {
      "needs_background": "light"
     },
     "output_type": "display_data"
    },
    {
     "data": {
      "image/png": "[encoded data removed]",
      "text/plain": [
       "<Figure size 432x288 with 1 Axes>"
      ]
     },
     "metadata": {
      "needs_background": "light"
     },
     "output_type": "display_data"
    }
   ],
   "source": [
    "tuples_list = []\n",
    "mfs_data = data[data[\"Position\"].str.contains(\"MF\")]\n",
    "mfs_data_groued_by_club = mfs_data.groupby(\"Club\")\n",
    "for club in clubs:\n",
    "    club_mfs_data = mfs_data_groued_by_club.get_group(club)\n",
    "    completed_passes_avg = club_mfs_data[\"Passes_Completed_Per_Minute\"].mean()\n",
    "    attemtped_passes_avg = club_mfs_data[\"Passes_Attempted_Per_Minute\"].mean()\n",
    "    assists_avg = club_mfs_data[\"Assists\"].mean()\n",
    "    goals_avg = club_mfs_data[\"Goals\"].mean()\n",
    "    tpl = [club, round(completed_passes_avg,2), round(attemtped_passes_avg,2), round(assists_avg,2), round(goals_avg,2)]\n",
    "    tpl = tuple(tpl)\n",
    "    tuples_list.append(tpl)\n",
    "    \n",
    "tuples_list.sort(key = lambda x: x[1])\n",
    "tuples_list.reverse()\n",
    "\n",
    "x_values = [tpl[0] for tpl in tuples_list]\n",
    "completed_values = [tpl[1] for tpl in tuples_list]\n",
    "attemtped_values = [tpl[2] for tpl in tuples_list]\n",
    "assists_values = [tpl[3] for tpl in tuples_list]\n",
    "goals_values = [tpl[4] for tpl in tuples_list]\n",
    "\n",
    "# passes\n",
    "fig = plt.figure()\n",
    "ax = fig.add_subplot()\n",
    "\n",
    "ax.bar(x=x_values, height=attemtped_values, width=0.55,align='center', label=\"Attempted\", color=\"#a8bfb5\")\n",
    "ax.bar(x=x_values, height=completed_values, width=0.55,  align='center',label=\"Completed\", color=\"#7eb54e\")\n",
    "\n",
    "plt.xticks(x_values, x_values, rotation=\"vertical\")\n",
    "plt.title(\"Average MF's Passes/Minute\")\n",
    "plt.legend()\n",
    "plt.show()\n",
    "\n",
    "\n",
    "# goals and assists\n",
    "width = 0.55\n",
    "X_axis = np.arange(len(x_values))\n",
    "plt.bar(x=X_axis, height=goals_values, width=width*0.8,label=\"Goals\", color=\"#ff94d4\")\n",
    "plt.bar(x=X_axis + width/2, height=assists_values, width=width*0.8,label=\"Assists\", color=\"#fcc762\")\n",
    "plt.title(\"Average MF's Assists and Goals\")\n",
    "plt.xticks(X_axis + width, x_values, rotation='vertical')\n",
    "plt.legend()\n",
    "plt.show()"
   ]
  },
  {
   "cell_type": "code",
   "execution_count": 22,
   "id": "162de11c",
   "metadata": {},
   "outputs": [
    {
     "data": {
      "text/plain": [
       "[('Liverpool FC', 0.65, 0.75, 0.7, 0.7),\n",
       " ('Chelsea', 0.58, 0.68, 1.89, 2.56),\n",
       " ('Manchester City', 0.56, 0.65, 4.0, 5.38),\n",
       " ('Manchester United', 0.55, 0.64, 2.38, 3.5),\n",
       " ('Arsenal', 0.55, 0.63, 2.25, 0.75),\n",
       " ('West Ham United', 0.48, 0.62, 2.3, 3.6),\n",
       " ('Tottenham Hotspur', 0.46, 0.56, 1.67, 1.22),\n",
       " ('Everton', 0.45, 0.55, 1.31, 1.15),\n",
       " ('Leicester City', 0.44, 0.56, 2.0, 2.45),\n",
       " ('Wolverhampton Wanderers', 0.41, 0.5, 1.33, 1.78),\n",
       " ('Leeds United', 0.41, 0.52, 2.69, 3.0),\n",
       " ('Southampton', 0.37, 0.48, 1.43, 1.57),\n",
       " ('Fulham', 0.37, 0.45, 1.0, 1.58),\n",
       " ('Brighton', 0.37, 0.53, 1.27, 1.33),\n",
       " ('Sheffield United', 0.35, 0.43, 0.7, 1.0),\n",
       " ('Aston Villa', 0.34, 0.44, 1.82, 1.27),\n",
       " ('Crystal Palace', 0.32, 0.41, 2.5, 1.38),\n",
       " ('West Bromwich Albion', 0.28, 0.36, 0.69, 1.38),\n",
       " ('Burnley', 0.28, 0.39, 1.18, 0.82),\n",
       " ('Newcastle United', 0.27, 0.36, 1.43, 1.79)]"
      ]
     },
     "execution_count": 22,
     "metadata": {},
     "output_type": "execute_result"
    }
   ],
   "source": [
    "# ( Club, Passes_Completed_Per_Minute, Passes_Attempted_Per_Minute, Assists, Goals )\n",
    "tuples_list"
   ]
  },
  {
   "cell_type": "markdown",
   "id": "60e22bee",
   "metadata": {},
   "source": [
    "##### FW's Averages for each club"
   ]
  },
  {
   "cell_type": "code",
   "execution_count": 38,
   "id": "833611bd",
   "metadata": {},
   "outputs": [
    {
     "data": {
      "image/png": "[encoded data removed]",
      "text/plain": [
       "<Figure size 432x288 with 1 Axes>"
      ]
     },
     "metadata": {
      "needs_background": "light"
     },
     "output_type": "display_data"
    },
    {
     "data": {
      "image/png": "[encoded data removed]",
      "text/plain": [
       "<Figure size 432x288 with 1 Axes>"
      ]
     },
     "metadata": {
      "needs_background": "light"
     },
     "output_type": "display_data"
    }
   ],
   "source": [
    "tuples_list = []\n",
    "fws_data = data[data[\"Position\"].str.contains(\"FW\")]\n",
    "fws_data_groued_by_club = fws_data.groupby(\"Club\")\n",
    "for club in clubs:\n",
    "    club_fws_data = fws_data_groued_by_club.get_group(club)\n",
    "    completed_passes_avg = club_fws_data[\"Passes_Completed_Per_Minute\"].mean()\n",
    "    attemtped_passes_avg = club_fws_data[\"Passes_Attempted_Per_Minute\"].mean()\n",
    "    assists_avg = club_fws_data[\"Assists\"].mean()\n",
    "    goals_avg = club_fws_data[\"Goals\"].mean()\n",
    "    tpl = [club, round(completed_passes_avg,2), round(attemtped_passes_avg,2), round(assists_avg,2), round(goals_avg,2)]\n",
    "    tpl = tuple(tpl)\n",
    "    tuples_list.append(tpl)\n",
    "    \n",
    "tuples_list.sort(key = lambda x: x[4])\n",
    "tuples_list.reverse()\n",
    "\n",
    "x_values = [tpl[0] for tpl in tuples_list]\n",
    "completed_values = [tpl[1] for tpl in tuples_list]\n",
    "attemtped_values = [tpl[2] for tpl in tuples_list]\n",
    "assists_values = [tpl[3] for tpl in tuples_list]\n",
    "goals_values = [tpl[4] for tpl in tuples_list]\n",
    "\n",
    "\n",
    "# goals and assists\n",
    "width = 0.55\n",
    "X_axis = np.arange(len(x_values))\n",
    "plt.bar(x=X_axis, height=goals_values, width=width*0.8,label=\"Goals\", color=\"#ff94d4\")\n",
    "plt.bar(x=X_axis + width/2, height=assists_values, width=width*0.8,label=\"Assists\", color=\"#fcc762\")\n",
    "plt.title(\"Average FW's Assists and Goals\")\n",
    "plt.xticks(X_axis + width, x_values, rotation='vertical')\n",
    "plt.legend()\n",
    "plt.show()\n",
    "\n",
    "# passes\n",
    "fig = plt.figure()\n",
    "ax = fig.add_subplot()\n",
    "ax.bar(x=x_values, height=attemtped_values, width=0.55,align='center', label=\"Attempted\", color=\"#a8bfb5\")\n",
    "ax.bar(x=x_values, height=completed_values, width=0.55,  align='center',label=\"Completed\", color=\"#7eb54e\")\n",
    "plt.xticks(x_values, x_values, rotation=\"vertical\")\n",
    "plt.title(\"Average FW's Passes/Minute\")\n",
    "plt.legend()\n",
    "plt.show()"
   ]
  },
  {
   "cell_type": "code",
   "execution_count": 39,
   "id": "dfeec1bd",
   "metadata": {},
   "outputs": [
    {
     "data": {
      "text/plain": [
       "[('Tottenham Hotspur', 0.24, 0.32, 4.12, 7.12),\n",
       " ('Leeds United', 0.23, 0.31, 3.5, 7.0),\n",
       " ('Liverpool FC', 0.37, 0.47, 2.75, 6.62),\n",
       " ('Manchester City', 0.35, 0.43, 3.88, 6.25),\n",
       " ('Arsenal', 0.29, 0.38, 2.22, 5.0),\n",
       " ('Leicester City', 0.3, 0.43, 2.9, 4.8),\n",
       " ('Aston Villa', 0.44, 0.74, 2.56, 4.44),\n",
       " ('Crystal Palace', 0.21, 0.3, 2.0, 4.33),\n",
       " ('Chelsea', 0.34, 0.43, 2.78, 3.78),\n",
       " ('Newcastle United', 0.22, 0.3, 2.14, 3.57),\n",
       " ('Manchester United', 0.35, 0.43, 2.08, 3.42),\n",
       " ('West Ham United', 0.43, 0.57, 2.42, 3.17),\n",
       " ('Burnley', 0.12, 0.21, 1.17, 3.17),\n",
       " ('Southampton', 0.2, 0.29, 1.6, 2.9),\n",
       " ('Everton', 0.29, 0.37, 0.82, 2.82),\n",
       " ('West Bromwich Albion', 0.19, 0.26, 0.9, 2.3),\n",
       " ('Brighton', 0.22, 0.32, 1.3, 2.3),\n",
       " ('Wolverhampton Wanderers', 0.27, 0.34, 1.4, 2.0),\n",
       " ('Fulham', 0.28, 0.37, 0.78, 1.78),\n",
       " ('Sheffield United', 0.15, 0.21, 0.25, 1.75)]"
      ]
     },
     "execution_count": 39,
     "metadata": {},
     "output_type": "execute_result"
    }
   ],
   "source": [
    "# ( Club, Passes_Completed_Per_Minute, Passes_Attempted_Per_Minute, Assists, Goals )\n",
    "tuples_list"
   ]
  },
  {
   "cell_type": "code",
   "execution_count": null,
   "id": "40569178",
   "metadata": {},
   "outputs": [],
   "source": []
  },
  {
   "cell_type": "code",
   "execution_count": null,
   "id": "3e77cb7a",
   "metadata": {},
   "outputs": [],
   "source": []
  },
  {
   "cell_type": "code",
   "execution_count": null,
   "id": "731f8d44",
   "metadata": {},
   "outputs": [],
   "source": []
  },
  {
   "cell_type": "code",
   "execution_count": null,
   "id": "4d349b9a",
   "metadata": {},
   "outputs": [],
   "source": []
  },
  {
   "cell_type": "code",
   "execution_count": null,
   "id": "48bd5557",
   "metadata": {},
   "outputs": [],
   "source": []
  },
  {
   "cell_type": "code",
   "execution_count": null,
   "id": "cedb51fa",
   "metadata": {},
   "outputs": [],
   "source": []
  },
  {
   "cell_type": "code",
   "execution_count": null,
   "id": "c7c05697",
   "metadata": {},
   "outputs": [],
   "source": []
  },
  {
   "cell_type": "markdown",
   "id": "a6e09d7a",
   "metadata": {},
   "source": [
    "### Get top players of each cathegory and each position"
   ]
  },
  {
   "cell_type": "markdown",
   "id": "1a6d1a6b",
   "metadata": {},
   "source": [
    "### Create Julian Alvarez in the dataset using numpy in reasonable ranges of values to each column for FWs"
   ]
  },
  {
   "cell_type": "markdown",
   "id": "178a7465",
   "metadata": {},
   "source": [
    "### Set 3 team needs and find incorporatios that they could do"
   ]
  },
  {
   "cell_type": "markdown",
   "id": "a4cd179d",
   "metadata": {},
   "source": [
    "### Find replacement for a valued player"
   ]
  },
  {
   "cell_type": "code",
   "execution_count": null,
   "id": "b5494a27",
   "metadata": {},
   "outputs": [],
   "source": []
  }
 ],
 "metadata": {
  "kernelspec": {
   "display_name": "Python 3 (ipykernel)",
   "language": "python",
   "name": "python3"
  },
  "language_info": {
   "codemirror_mode": {
    "name": "ipython",
    "version": 3
   },
   "file_extension": ".py",
   "mimetype": "text/x-python",
   "name": "python",
   "nbconvert_exporter": "python",
   "pygments_lexer": "ipython3",
   "version": "3.8.10"
  }
 },
 "nbformat": 4,
 "nbformat_minor": 5
}
