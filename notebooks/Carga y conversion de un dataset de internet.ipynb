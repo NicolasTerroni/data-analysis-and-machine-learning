{
 "cells": [
  {
   "cell_type": "markdown",
   "id": "da34a11d",
   "metadata": {},
   "source": [
    "# Youtube spam\n",
    "\n",
    "dataset source: https://archive.ics.uci.edu/ml/datasets/YouTube+Spam+Collection#"
   ]
  },
  {
   "cell_type": "markdown",
   "id": "3e919766",
   "metadata": {},
   "source": [
    "## Carga de datos con read_csv"
   ]
  },
  {
   "cell_type": "code",
   "execution_count": 1,
   "id": "4e7c0b7f",
   "metadata": {},
   "outputs": [],
   "source": [
    "import pandas as pd\n",
    "import urllib3\n",
    "import csv, openpyxl, xlwt"
   ]
  },
  {
   "cell_type": "code",
   "execution_count": 2,
   "id": "4f3c3bd2",
   "metadata": {},
   "outputs": [],
   "source": [
    "mainpath = \"/home/nicolasterroni/projects/cursos/curso_ML_udemy/python-ml-course/datasets/\"\n",
    "filename = \"youtube_spam/Youtube04-Eminem.csv\""
   ]
  },
  {
   "cell_type": "code",
   "execution_count": 3,
   "id": "726480a5",
   "metadata": {},
   "outputs": [],
   "source": [
    "df = pd.read_csv(mainpath+filename)"
   ]
  },
  {
   "cell_type": "markdown",
   "id": "342fa68b",
   "metadata": {},
   "source": [
    "## Conversion a otros formatos"
   ]
  },
  {
   "cell_type": "code",
   "execution_count": 4,
   "id": "0b0c13e1",
   "metadata": {},
   "outputs": [],
   "source": [
    "#df.to_csv(mainpath + \"youtube.csv\")\n",
    "#df.to_excel(mainpath + filename +\".xlsx\")\n",
    "#df.to_json(mainpath + filename + \".json\")"
   ]
  },
  {
   "cell_type": "markdown",
   "id": "d9e63d73",
   "metadata": {},
   "source": [
    "## Analisis del dataset\n",
    "\n",
    "##### Representa comentarios en yt e identifica spam con el binario en la columna class"
   ]
  },
  {
   "cell_type": "code",
   "execution_count": 26,
   "id": "957cac46",
   "metadata": {},
   "outputs": [
    {
     "name": "stdout",
     "output_type": "stream",
     "text": [
      "Filas: 448\n",
      "Columnas: 5\n"
     ]
    }
   ],
   "source": [
    "num_row = df.shape[0]\n",
    "num_columns = df.shape[1]\n",
    "\n",
    "print(f\"Filas: {num_row}\")\n",
    "print(f\"Columnas: {num_columns}\")\n"
   ]
  },
  {
   "cell_type": "code",
   "execution_count": 27,
   "id": "fc2b176a",
   "metadata": {},
   "outputs": [
    {
     "data": {
      "text/plain": [
       "array(['COMMENT_ID', 'AUTHOR', 'DATE', 'CONTENT', 'CLASS'], dtype=object)"
      ]
     },
     "execution_count": 27,
     "metadata": {},
     "output_type": "execute_result"
    }
   ],
   "source": [
    "df.columns.values"
   ]
  },
  {
   "cell_type": "code",
   "execution_count": 28,
   "id": "5e5bcc08",
   "metadata": {},
   "outputs": [
    {
     "data": {
      "text/plain": [
       "COMMENT_ID    object\n",
       "AUTHOR        object\n",
       "DATE          object\n",
       "CONTENT       object\n",
       "CLASS          int64\n",
       "dtype: object"
      ]
     },
     "execution_count": 28,
     "metadata": {},
     "output_type": "execute_result"
    }
   ],
   "source": [
    "df.dtypes"
   ]
  },
  {
   "cell_type": "code",
   "execution_count": 29,
   "id": "9d28d0d1",
   "metadata": {},
   "outputs": [
    {
     "data": {
      "text/html": [
       "<div>\n",
       "<style scoped>\n",
       "    .dataframe tbody tr th:only-of-type {\n",
       "        vertical-align: middle;\n",
       "    }\n",
       "\n",
       "    .dataframe tbody tr th {\n",
       "        vertical-align: top;\n",
       "    }\n",
       "\n",
       "    .dataframe thead th {\n",
       "        text-align: right;\n",
       "    }\n",
       "</style>\n",
       "<table border=\"1\" class=\"dataframe\">\n",
       "  <thead>\n",
       "    <tr style=\"text-align: right;\">\n",
       "      <th></th>\n",
       "      <th>COMMENT_ID</th>\n",
       "      <th>AUTHOR</th>\n",
       "      <th>DATE</th>\n",
       "      <th>CONTENT</th>\n",
       "      <th>CLASS</th>\n",
       "    </tr>\n",
       "  </thead>\n",
       "  <tbody>\n",
       "    <tr>\n",
       "      <th>0</th>\n",
       "      <td>z12rwfnyyrbsefonb232i5ehdxzkjzjs2</td>\n",
       "      <td>Lisa Wellas</td>\n",
       "      <td>NaN</td>\n",
       "      <td>+447935454150 lovely girl talk to me xxx﻿</td>\n",
       "      <td>1</td>\n",
       "    </tr>\n",
       "    <tr>\n",
       "      <th>1</th>\n",
       "      <td>z130wpnwwnyuetxcn23xf5k5ynmkdpjrj04</td>\n",
       "      <td>jason graham</td>\n",
       "      <td>2015-05-29T02:26:10.652000</td>\n",
       "      <td>I always end up coming back to this song&lt;br /&gt;﻿</td>\n",
       "      <td>0</td>\n",
       "    </tr>\n",
       "    <tr>\n",
       "      <th>2</th>\n",
       "      <td>z13vsfqirtavjvu0t22ezrgzyorwxhpf3</td>\n",
       "      <td>Ajkal Khan</td>\n",
       "      <td>NaN</td>\n",
       "      <td>my sister just received over 6,500 new &lt;a rel=...</td>\n",
       "      <td>1</td>\n",
       "    </tr>\n",
       "    <tr>\n",
       "      <th>3</th>\n",
       "      <td>z12wjzc4eprnvja4304cgbbizuved35wxcs</td>\n",
       "      <td>Dakota Taylor</td>\n",
       "      <td>2015-05-29T02:13:07.810000</td>\n",
       "      <td>Cool﻿</td>\n",
       "      <td>0</td>\n",
       "    </tr>\n",
       "    <tr>\n",
       "      <th>4</th>\n",
       "      <td>z13xjfr42z3uxdz2223gx5rrzs3dt5hna</td>\n",
       "      <td>Jihad Naser</td>\n",
       "      <td>NaN</td>\n",
       "      <td>Hello I&amp;#39;am from Palastine﻿</td>\n",
       "      <td>1</td>\n",
       "    </tr>\n",
       "    <tr>\n",
       "      <th>5</th>\n",
       "      <td>z133yfmjdur4dvyjr04ceh2osl2fvngrqi4</td>\n",
       "      <td>Darrion Johnson</td>\n",
       "      <td>2015-05-29T01:27:30.360000</td>\n",
       "      <td>Wow this video almost has a billion views! Did...</td>\n",
       "      <td>0</td>\n",
       "    </tr>\n",
       "    <tr>\n",
       "      <th>6</th>\n",
       "      <td>z12zgrw5furdsn0sc233hfwavnznyhicq</td>\n",
       "      <td>kyeman13</td>\n",
       "      <td>NaN</td>\n",
       "      <td>Go check out my rapping video called Four Whee...</td>\n",
       "      <td>1</td>\n",
       "    </tr>\n",
       "    <tr>\n",
       "      <th>7</th>\n",
       "      <td>z12vxdzzds2kzzrzq04cdjc4ozq2szuyl5o</td>\n",
       "      <td>Damax</td>\n",
       "      <td>2015-05-29T00:41:22.426000</td>\n",
       "      <td>Almost 1 billion﻿</td>\n",
       "      <td>0</td>\n",
       "    </tr>\n",
       "    <tr>\n",
       "      <th>8</th>\n",
       "      <td>z12gxdortqzwhhqas04cfjrwituzghb5tvk0k</td>\n",
       "      <td>Muhammad Asim Mansha</td>\n",
       "      <td>NaN</td>\n",
       "      <td>Aslamu Lykum... From Pakistan﻿</td>\n",
       "      <td>1</td>\n",
       "    </tr>\n",
       "    <tr>\n",
       "      <th>9</th>\n",
       "      <td>z132wd4ywmicxj2gn04cdfhilyryjhmjhk00k</td>\n",
       "      <td>JuanPa Rap</td>\n",
       "      <td>2015-05-28T23:23:41.231000</td>\n",
       "      <td>Eminem is idol for very people in España and M...</td>\n",
       "      <td>0</td>\n",
       "    </tr>\n",
       "  </tbody>\n",
       "</table>\n",
       "</div>"
      ],
      "text/plain": [
       "                              COMMENT_ID                AUTHOR  \\\n",
       "0      z12rwfnyyrbsefonb232i5ehdxzkjzjs2           Lisa Wellas   \n",
       "1    z130wpnwwnyuetxcn23xf5k5ynmkdpjrj04          jason graham   \n",
       "2      z13vsfqirtavjvu0t22ezrgzyorwxhpf3            Ajkal Khan   \n",
       "3    z12wjzc4eprnvja4304cgbbizuved35wxcs         Dakota Taylor   \n",
       "4      z13xjfr42z3uxdz2223gx5rrzs3dt5hna           Jihad Naser   \n",
       "5    z133yfmjdur4dvyjr04ceh2osl2fvngrqi4       Darrion Johnson   \n",
       "6      z12zgrw5furdsn0sc233hfwavnznyhicq              kyeman13   \n",
       "7    z12vxdzzds2kzzrzq04cdjc4ozq2szuyl5o                 Damax   \n",
       "8  z12gxdortqzwhhqas04cfjrwituzghb5tvk0k  Muhammad Asim Mansha   \n",
       "9  z132wd4ywmicxj2gn04cdfhilyryjhmjhk00k            JuanPa Rap   \n",
       "\n",
       "                         DATE  \\\n",
       "0                         NaN   \n",
       "1  2015-05-29T02:26:10.652000   \n",
       "2                         NaN   \n",
       "3  2015-05-29T02:13:07.810000   \n",
       "4                         NaN   \n",
       "5  2015-05-29T01:27:30.360000   \n",
       "6                         NaN   \n",
       "7  2015-05-29T00:41:22.426000   \n",
       "8                         NaN   \n",
       "9  2015-05-28T23:23:41.231000   \n",
       "\n",
       "                                             CONTENT  CLASS  \n",
       "0          +447935454150 lovely girl talk to me xxx﻿      1  \n",
       "1    I always end up coming back to this song<br />﻿      0  \n",
       "2  my sister just received over 6,500 new <a rel=...      1  \n",
       "3                                              Cool﻿      0  \n",
       "4                     Hello I&#39;am from Palastine﻿      1  \n",
       "5  Wow this video almost has a billion views! Did...      0  \n",
       "6  Go check out my rapping video called Four Whee...      1  \n",
       "7                                  Almost 1 billion﻿      0  \n",
       "8                     Aslamu Lykum... From Pakistan﻿      1  \n",
       "9  Eminem is idol for very people in España and M...      0  "
      ]
     },
     "execution_count": 29,
     "metadata": {},
     "output_type": "execute_result"
    }
   ],
   "source": [
    "df.head(10)"
   ]
  },
  {
   "cell_type": "code",
   "execution_count": 30,
   "id": "b47212e6",
   "metadata": {},
   "outputs": [
    {
     "data": {
      "text/html": [
       "<div>\n",
       "<style scoped>\n",
       "    .dataframe tbody tr th:only-of-type {\n",
       "        vertical-align: middle;\n",
       "    }\n",
       "\n",
       "    .dataframe tbody tr th {\n",
       "        vertical-align: top;\n",
       "    }\n",
       "\n",
       "    .dataframe thead th {\n",
       "        text-align: right;\n",
       "    }\n",
       "</style>\n",
       "<table border=\"1\" class=\"dataframe\">\n",
       "  <thead>\n",
       "    <tr style=\"text-align: right;\">\n",
       "      <th></th>\n",
       "      <th>COMMENT_ID</th>\n",
       "      <th>AUTHOR</th>\n",
       "      <th>DATE</th>\n",
       "      <th>CONTENT</th>\n",
       "      <th>CLASS</th>\n",
       "    </tr>\n",
       "  </thead>\n",
       "  <tbody>\n",
       "    <tr>\n",
       "      <th>438</th>\n",
       "      <td>z12msjqximryxdfz104cjhbhtw2ld5ipsh4</td>\n",
       "      <td>SIR JOHN</td>\n",
       "      <td>2015-05-07T02:28:12.704000</td>\n",
       "      <td>EMINEM the best EVER.﻿</td>\n",
       "      <td>0</td>\n",
       "    </tr>\n",
       "    <tr>\n",
       "      <th>439</th>\n",
       "      <td>LneaDw26bFvn1m3oQLlCgsaxLcEy_eMQzcK9NAbyaew</td>\n",
       "      <td>M.E.S</td>\n",
       "      <td>NaN</td>\n",
       "      <td>hey guys look im aware im spamming and it piss...</td>\n",
       "      <td>1</td>\n",
       "    </tr>\n",
       "    <tr>\n",
       "      <th>440</th>\n",
       "      <td>LneaDw26bFv4NFg1m91sL1Aq1p-2N06VweQT4vOwTqc</td>\n",
       "      <td>Ando Nesia - | MC | Music Producer</td>\n",
       "      <td>NaN</td>\n",
       "      <td>DO YOU KNOW HOW SEAN KINGSTON GOT FAMOUS WHY D...</td>\n",
       "      <td>1</td>\n",
       "    </tr>\n",
       "    <tr>\n",
       "      <th>441</th>\n",
       "      <td>z12wvru4rzf5jx0wj04cgx5q1qi1w554ba0</td>\n",
       "      <td>Erin Williams</td>\n",
       "      <td>2015-05-06T17:19:21.193000</td>\n",
       "      <td>Best. Song. EVER 🙌﻿</td>\n",
       "      <td>0</td>\n",
       "    </tr>\n",
       "    <tr>\n",
       "      <th>442</th>\n",
       "      <td>LneaDw26bFsVQRSG0ecctIfRIn4Od1tJqvnhDwCNqbI</td>\n",
       "      <td>the34104</td>\n",
       "      <td>NaN</td>\n",
       "      <td>check out eminem latest track survival if u didnt</td>\n",
       "      <td>1</td>\n",
       "    </tr>\n",
       "    <tr>\n",
       "      <th>443</th>\n",
       "      <td>LneaDw26bFu3RCmyrWyP9S6wh1h9dBv3X95g1HzKAb4</td>\n",
       "      <td>Dany PK</td>\n",
       "      <td>NaN</td>\n",
       "      <td>SUBSCRIBE TO MY CHANNEL X PLEASE!. SPARE</td>\n",
       "      <td>1</td>\n",
       "    </tr>\n",
       "    <tr>\n",
       "      <th>444</th>\n",
       "      <td>LneaDw26bFsD65dtIvAEObWYIYnFTqQDKBek_Ypz3J8</td>\n",
       "      <td>SmexyFriedChicken</td>\n",
       "      <td>NaN</td>\n",
       "      <td>Check out my videos guy! :) Hope you guys had ...</td>\n",
       "      <td>1</td>\n",
       "    </tr>\n",
       "    <tr>\n",
       "      <th>445</th>\n",
       "      <td>LneaDw26bFuvs-8oWkLpAFa6g3QHpWD8k7sbbMP3Bg8</td>\n",
       "      <td>The Guy That's Done Everything</td>\n",
       "      <td>NaN</td>\n",
       "      <td>3 yrs ago I had a health scare but thankfully ...</td>\n",
       "      <td>1</td>\n",
       "    </tr>\n",
       "    <tr>\n",
       "      <th>446</th>\n",
       "      <td>z12hfp2wmyuqztkw504cgblyxtbsxjuzeow0k</td>\n",
       "      <td>Jesse Pinkman</td>\n",
       "      <td>2015-05-06T11:42:44.601000</td>\n",
       "      <td>Rihanna looks so beautiful with red hair ;)﻿</td>\n",
       "      <td>0</td>\n",
       "    </tr>\n",
       "    <tr>\n",
       "      <th>447</th>\n",
       "      <td>z13tsbc5vvn0hdozz04chjt51lq1cvris0k</td>\n",
       "      <td>Gaming Gaming</td>\n",
       "      <td>2015-05-06T10:56:35.972000</td>\n",
       "      <td>857.482.940 views AWESOME !!!!!!!!!!!!!!!!!!!!...</td>\n",
       "      <td>0</td>\n",
       "    </tr>\n",
       "  </tbody>\n",
       "</table>\n",
       "</div>"
      ],
      "text/plain": [
       "                                      COMMENT_ID  \\\n",
       "438          z12msjqximryxdfz104cjhbhtw2ld5ipsh4   \n",
       "439  LneaDw26bFvn1m3oQLlCgsaxLcEy_eMQzcK9NAbyaew   \n",
       "440  LneaDw26bFv4NFg1m91sL1Aq1p-2N06VweQT4vOwTqc   \n",
       "441          z12wvru4rzf5jx0wj04cgx5q1qi1w554ba0   \n",
       "442  LneaDw26bFsVQRSG0ecctIfRIn4Od1tJqvnhDwCNqbI   \n",
       "443  LneaDw26bFu3RCmyrWyP9S6wh1h9dBv3X95g1HzKAb4   \n",
       "444  LneaDw26bFsD65dtIvAEObWYIYnFTqQDKBek_Ypz3J8   \n",
       "445  LneaDw26bFuvs-8oWkLpAFa6g3QHpWD8k7sbbMP3Bg8   \n",
       "446        z12hfp2wmyuqztkw504cgblyxtbsxjuzeow0k   \n",
       "447          z13tsbc5vvn0hdozz04chjt51lq1cvris0k   \n",
       "\n",
       "                                 AUTHOR                        DATE  \\\n",
       "438                            SIR JOHN  2015-05-07T02:28:12.704000   \n",
       "439                               M.E.S                         NaN   \n",
       "440  Ando Nesia - | MC | Music Producer                         NaN   \n",
       "441                       Erin Williams  2015-05-06T17:19:21.193000   \n",
       "442                            the34104                         NaN   \n",
       "443                             Dany PK                         NaN   \n",
       "444                   SmexyFriedChicken                         NaN   \n",
       "445      The Guy That's Done Everything                         NaN   \n",
       "446                       Jesse Pinkman  2015-05-06T11:42:44.601000   \n",
       "447                       Gaming Gaming  2015-05-06T10:56:35.972000   \n",
       "\n",
       "                                               CONTENT  CLASS  \n",
       "438                             EMINEM the best EVER.﻿      0  \n",
       "439  hey guys look im aware im spamming and it piss...      1  \n",
       "440  DO YOU KNOW HOW SEAN KINGSTON GOT FAMOUS WHY D...      1  \n",
       "441                                Best. Song. EVER 🙌﻿      0  \n",
       "442  check out eminem latest track survival if u didnt      1  \n",
       "443           SUBSCRIBE TO MY CHANNEL X PLEASE!. SPARE      1  \n",
       "444  Check out my videos guy! :) Hope you guys had ...      1  \n",
       "445  3 yrs ago I had a health scare but thankfully ...      1  \n",
       "446       Rihanna looks so beautiful with red hair ;)﻿      0  \n",
       "447  857.482.940 views AWESOME !!!!!!!!!!!!!!!!!!!!...      0  "
      ]
     },
     "execution_count": 30,
     "metadata": {},
     "output_type": "execute_result"
    }
   ],
   "source": [
    "df.tail(10)"
   ]
  },
  {
   "cell_type": "code",
   "execution_count": 31,
   "id": "6f7d3a44",
   "metadata": {},
   "outputs": [
    {
     "data": {
      "text/html": [
       "<div>\n",
       "<style scoped>\n",
       "    .dataframe tbody tr th:only-of-type {\n",
       "        vertical-align: middle;\n",
       "    }\n",
       "\n",
       "    .dataframe tbody tr th {\n",
       "        vertical-align: top;\n",
       "    }\n",
       "\n",
       "    .dataframe thead th {\n",
       "        text-align: right;\n",
       "    }\n",
       "</style>\n",
       "<table border=\"1\" class=\"dataframe\">\n",
       "  <thead>\n",
       "    <tr style=\"text-align: right;\">\n",
       "      <th></th>\n",
       "      <th>CLASS</th>\n",
       "    </tr>\n",
       "  </thead>\n",
       "  <tbody>\n",
       "    <tr>\n",
       "      <th>count</th>\n",
       "      <td>448.000000</td>\n",
       "    </tr>\n",
       "    <tr>\n",
       "      <th>mean</th>\n",
       "      <td>0.546875</td>\n",
       "    </tr>\n",
       "    <tr>\n",
       "      <th>std</th>\n",
       "      <td>0.498354</td>\n",
       "    </tr>\n",
       "    <tr>\n",
       "      <th>min</th>\n",
       "      <td>0.000000</td>\n",
       "    </tr>\n",
       "    <tr>\n",
       "      <th>25%</th>\n",
       "      <td>0.000000</td>\n",
       "    </tr>\n",
       "    <tr>\n",
       "      <th>50%</th>\n",
       "      <td>1.000000</td>\n",
       "    </tr>\n",
       "    <tr>\n",
       "      <th>75%</th>\n",
       "      <td>1.000000</td>\n",
       "    </tr>\n",
       "    <tr>\n",
       "      <th>max</th>\n",
       "      <td>1.000000</td>\n",
       "    </tr>\n",
       "  </tbody>\n",
       "</table>\n",
       "</div>"
      ],
      "text/plain": [
       "            CLASS\n",
       "count  448.000000\n",
       "mean     0.546875\n",
       "std      0.498354\n",
       "min      0.000000\n",
       "25%      0.000000\n",
       "50%      1.000000\n",
       "75%      1.000000\n",
       "max      1.000000"
      ]
     },
     "execution_count": 31,
     "metadata": {},
     "output_type": "execute_result"
    }
   ],
   "source": [
    "df.describe()"
   ]
  },
  {
   "cell_type": "markdown",
   "id": "df16d835",
   "metadata": {},
   "source": [
    "## Valores faltantes"
   ]
  },
  {
   "cell_type": "code",
   "execution_count": 39,
   "id": "aeae8d0e",
   "metadata": {},
   "outputs": [
    {
     "data": {
      "text/plain": [
       "245"
      ]
     },
     "execution_count": 39,
     "metadata": {},
     "output_type": "execute_result"
    }
   ],
   "source": [
    "pd.isnull(df['DATE']).values.ravel().sum()"
   ]
  },
  {
   "cell_type": "code",
   "execution_count": 40,
   "id": "6573efbb",
   "metadata": {},
   "outputs": [
    {
     "data": {
      "text/plain": [
       "203"
      ]
     },
     "execution_count": 40,
     "metadata": {},
     "output_type": "execute_result"
    }
   ],
   "source": [
    "pd.notnull(df['DATE']).values.ravel().sum()"
   ]
  },
  {
   "cell_type": "code",
   "execution_count": null,
   "id": "79b0425d",
   "metadata": {},
   "outputs": [],
   "source": []
  }
 ],
 "metadata": {
  "kernelspec": {
   "display_name": "Python 3 (ipykernel)",
   "language": "python",
   "name": "python3"
  },
  "language_info": {
   "codemirror_mode": {
    "name": "ipython",
    "version": 3
   },
   "file_extension": ".py",
   "mimetype": "text/x-python",
   "name": "python",
   "nbconvert_exporter": "python",
   "pygments_lexer": "ipython3",
   "version": "3.8.10"
  }
 },
 "nbformat": 4,
 "nbformat_minor": 5
}
