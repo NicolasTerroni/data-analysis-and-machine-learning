{
 "cells": [
  {
   "cell_type": "markdown",
   "id": "da34a11d",
   "metadata": {},
   "source": [
    "# Youtube spam\n",
    "\n",
    "dataset source: https://archive.ics.uci.edu/ml/datasets/YouTube+Spam+Collection#"
   ]
  },
  {
   "cell_type": "markdown",
   "id": "3e919766",
   "metadata": {},
   "source": [
    "## Carga de datos con read_csv"
   ]
  },
  {
   "cell_type": "code",
   "execution_count": 14,
   "id": "4e7c0b7f",
   "metadata": {},
   "outputs": [],
   "source": [
    "import pandas as pd\n",
    "import urllib3\n",
    "import csv, openpyxl, xlwt"
   ]
  },
  {
   "cell_type": "code",
   "execution_count": 15,
   "id": "4f3c3bd2",
   "metadata": {},
   "outputs": [],
   "source": [
    "mainpath = \"/home/nicolasterroni/projects/cursos/curso_ML_udemy/python-ml-course/datasets/\"\n",
    "filename = \"youtube_spam/Youtube04-Eminem.csv\""
   ]
  },
  {
   "cell_type": "code",
   "execution_count": 16,
   "id": "726480a5",
   "metadata": {},
   "outputs": [],
   "source": [
    "df = pd.read_csv(mainpath+filename)"
   ]
  },
  {
   "cell_type": "markdown",
   "id": "342fa68b",
   "metadata": {},
   "source": [
    "## Conversion a otros formatos"
   ]
  },
  {
   "cell_type": "code",
   "execution_count": 17,
   "id": "0b0c13e1",
   "metadata": {},
   "outputs": [],
   "source": [
    "#df.to_csv(mainpath + \"youtube.csv\")\n",
    "#df.to_excel(mainpath + filename +\".xlsx\")\n",
    "#df.to_json(mainpath + filename + \".json\")"
   ]
  },
  {
   "cell_type": "markdown",
   "id": "d9e63d73",
   "metadata": {},
   "source": [
    "## Analisis del dataset\n",
    "\n",
    "##### Representa comentarios en yt e identifica spam con el binario en la columna class"
   ]
  },
  {
   "cell_type": "code",
   "execution_count": 18,
   "id": "957cac46",
   "metadata": {},
   "outputs": [
    {
     "name": "stdout",
     "output_type": "stream",
     "text": [
      "Filas: 448\n",
      "Columnas: 5\n"
     ]
    },
    {
     "data": {
      "text/plain": [
       "['COMMENT_ID', 'AUTHOR', 'DATE', 'CONTENT', 'CLASS']"
      ]
     },
     "execution_count": 18,
     "metadata": {},
     "output_type": "execute_result"
    }
   ],
   "source": [
    "num_row = df.shape[0]\n",
    "num_columns = df.shape[1]\n",
    "columns = []\n",
    "for col in df.columns:\n",
    "    columns.append(col)\n",
    "\n",
    "print(f\"Filas: {num_row}\")\n",
    "print(f\"Columnas: {num_columns}\")\n",
    "columns"
   ]
  },
  {
   "cell_type": "code",
   "execution_count": 19,
   "id": "9d28d0d1",
   "metadata": {},
   "outputs": [
    {
     "data": {
      "text/html": [
       "<div>\n",
       "<style scoped>\n",
       "    .dataframe tbody tr th:only-of-type {\n",
       "        vertical-align: middle;\n",
       "    }\n",
       "\n",
       "    .dataframe tbody tr th {\n",
       "        vertical-align: top;\n",
       "    }\n",
       "\n",
       "    .dataframe thead th {\n",
       "        text-align: right;\n",
       "    }\n",
       "</style>\n",
       "<table border=\"1\" class=\"dataframe\">\n",
       "  <thead>\n",
       "    <tr style=\"text-align: right;\">\n",
       "      <th></th>\n",
       "      <th>COMMENT_ID</th>\n",
       "      <th>AUTHOR</th>\n",
       "      <th>DATE</th>\n",
       "      <th>CONTENT</th>\n",
       "      <th>CLASS</th>\n",
       "    </tr>\n",
       "  </thead>\n",
       "  <tbody>\n",
       "    <tr>\n",
       "      <th>0</th>\n",
       "      <td>z12rwfnyyrbsefonb232i5ehdxzkjzjs2</td>\n",
       "      <td>Lisa Wellas</td>\n",
       "      <td>NaN</td>\n",
       "      <td>+447935454150 lovely girl talk to me xxx﻿</td>\n",
       "      <td>1</td>\n",
       "    </tr>\n",
       "    <tr>\n",
       "      <th>1</th>\n",
       "      <td>z130wpnwwnyuetxcn23xf5k5ynmkdpjrj04</td>\n",
       "      <td>jason graham</td>\n",
       "      <td>2015-05-29T02:26:10.652000</td>\n",
       "      <td>I always end up coming back to this song&lt;br /&gt;﻿</td>\n",
       "      <td>0</td>\n",
       "    </tr>\n",
       "    <tr>\n",
       "      <th>2</th>\n",
       "      <td>z13vsfqirtavjvu0t22ezrgzyorwxhpf3</td>\n",
       "      <td>Ajkal Khan</td>\n",
       "      <td>NaN</td>\n",
       "      <td>my sister just received over 6,500 new &lt;a rel=...</td>\n",
       "      <td>1</td>\n",
       "    </tr>\n",
       "    <tr>\n",
       "      <th>3</th>\n",
       "      <td>z12wjzc4eprnvja4304cgbbizuved35wxcs</td>\n",
       "      <td>Dakota Taylor</td>\n",
       "      <td>2015-05-29T02:13:07.810000</td>\n",
       "      <td>Cool﻿</td>\n",
       "      <td>0</td>\n",
       "    </tr>\n",
       "    <tr>\n",
       "      <th>4</th>\n",
       "      <td>z13xjfr42z3uxdz2223gx5rrzs3dt5hna</td>\n",
       "      <td>Jihad Naser</td>\n",
       "      <td>NaN</td>\n",
       "      <td>Hello I&amp;#39;am from Palastine﻿</td>\n",
       "      <td>1</td>\n",
       "    </tr>\n",
       "    <tr>\n",
       "      <th>5</th>\n",
       "      <td>z133yfmjdur4dvyjr04ceh2osl2fvngrqi4</td>\n",
       "      <td>Darrion Johnson</td>\n",
       "      <td>2015-05-29T01:27:30.360000</td>\n",
       "      <td>Wow this video almost has a billion views! Did...</td>\n",
       "      <td>0</td>\n",
       "    </tr>\n",
       "    <tr>\n",
       "      <th>6</th>\n",
       "      <td>z12zgrw5furdsn0sc233hfwavnznyhicq</td>\n",
       "      <td>kyeman13</td>\n",
       "      <td>NaN</td>\n",
       "      <td>Go check out my rapping video called Four Whee...</td>\n",
       "      <td>1</td>\n",
       "    </tr>\n",
       "    <tr>\n",
       "      <th>7</th>\n",
       "      <td>z12vxdzzds2kzzrzq04cdjc4ozq2szuyl5o</td>\n",
       "      <td>Damax</td>\n",
       "      <td>2015-05-29T00:41:22.426000</td>\n",
       "      <td>Almost 1 billion﻿</td>\n",
       "      <td>0</td>\n",
       "    </tr>\n",
       "    <tr>\n",
       "      <th>8</th>\n",
       "      <td>z12gxdortqzwhhqas04cfjrwituzghb5tvk0k</td>\n",
       "      <td>Muhammad Asim Mansha</td>\n",
       "      <td>NaN</td>\n",
       "      <td>Aslamu Lykum... From Pakistan﻿</td>\n",
       "      <td>1</td>\n",
       "    </tr>\n",
       "    <tr>\n",
       "      <th>9</th>\n",
       "      <td>z132wd4ywmicxj2gn04cdfhilyryjhmjhk00k</td>\n",
       "      <td>JuanPa Rap</td>\n",
       "      <td>2015-05-28T23:23:41.231000</td>\n",
       "      <td>Eminem is idol for very people in España and M...</td>\n",
       "      <td>0</td>\n",
       "    </tr>\n",
       "  </tbody>\n",
       "</table>\n",
       "</div>"
      ],
      "text/plain": [
       "                              COMMENT_ID                AUTHOR  \\\n",
       "0      z12rwfnyyrbsefonb232i5ehdxzkjzjs2           Lisa Wellas   \n",
       "1    z130wpnwwnyuetxcn23xf5k5ynmkdpjrj04          jason graham   \n",
       "2      z13vsfqirtavjvu0t22ezrgzyorwxhpf3            Ajkal Khan   \n",
       "3    z12wjzc4eprnvja4304cgbbizuved35wxcs         Dakota Taylor   \n",
       "4      z13xjfr42z3uxdz2223gx5rrzs3dt5hna           Jihad Naser   \n",
       "5    z133yfmjdur4dvyjr04ceh2osl2fvngrqi4       Darrion Johnson   \n",
       "6      z12zgrw5furdsn0sc233hfwavnznyhicq              kyeman13   \n",
       "7    z12vxdzzds2kzzrzq04cdjc4ozq2szuyl5o                 Damax   \n",
       "8  z12gxdortqzwhhqas04cfjrwituzghb5tvk0k  Muhammad Asim Mansha   \n",
       "9  z132wd4ywmicxj2gn04cdfhilyryjhmjhk00k            JuanPa Rap   \n",
       "\n",
       "                         DATE  \\\n",
       "0                         NaN   \n",
       "1  2015-05-29T02:26:10.652000   \n",
       "2                         NaN   \n",
       "3  2015-05-29T02:13:07.810000   \n",
       "4                         NaN   \n",
       "5  2015-05-29T01:27:30.360000   \n",
       "6                         NaN   \n",
       "7  2015-05-29T00:41:22.426000   \n",
       "8                         NaN   \n",
       "9  2015-05-28T23:23:41.231000   \n",
       "\n",
       "                                             CONTENT  CLASS  \n",
       "0          +447935454150 lovely girl talk to me xxx﻿      1  \n",
       "1    I always end up coming back to this song<br />﻿      0  \n",
       "2  my sister just received over 6,500 new <a rel=...      1  \n",
       "3                                              Cool﻿      0  \n",
       "4                     Hello I&#39;am from Palastine﻿      1  \n",
       "5  Wow this video almost has a billion views! Did...      0  \n",
       "6  Go check out my rapping video called Four Whee...      1  \n",
       "7                                  Almost 1 billion﻿      0  \n",
       "8                     Aslamu Lykum... From Pakistan﻿      1  \n",
       "9  Eminem is idol for very people in España and M...      0  "
      ]
     },
     "execution_count": 19,
     "metadata": {},
     "output_type": "execute_result"
    }
   ],
   "source": [
    "df.head(10)"
   ]
  },
  {
   "cell_type": "code",
   "execution_count": null,
   "id": "b47212e6",
   "metadata": {},
   "outputs": [],
   "source": []
  }
 ],
 "metadata": {
  "kernelspec": {
   "display_name": "Python 3 (ipykernel)",
   "language": "python",
   "name": "python3"
  },
  "language_info": {
   "codemirror_mode": {
    "name": "ipython",
    "version": 3
   },
   "file_extension": ".py",
   "mimetype": "text/x-python",
   "name": "python",
   "nbconvert_exporter": "python",
   "pygments_lexer": "ipython3",
   "version": "3.8.10"
  }
 },
 "nbformat": 4,
 "nbformat_minor": 5
}
